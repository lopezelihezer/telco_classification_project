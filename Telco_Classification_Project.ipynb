{
 "cells": [
  {
   "cell_type": "markdown",
   "id": "fb3cd57d",
   "metadata": {},
   "source": [
    "# Telco Classification Project"
   ]
  },
  {
   "cell_type": "markdown",
   "id": "1a89989c",
   "metadata": {},
   "source": [
    "<img src=\"telco_logo.png\" title=\"telco_logo\" width=\"400\" height=\"200\" />"
   ]
  },
  {
   "cell_type": "code",
   "execution_count": 46,
   "id": "5ba214c3",
   "metadata": {},
   "outputs": [],
   "source": [
    "import pandas as pd\n",
    "import numpy as np\n",
    "import os\n",
    "from env import host, user, password\n",
    "import acquire\n",
    "import explore\n",
    "import prepare\n",
    "\n",
    "import warnings\n",
    "warnings.filterwarnings(\"ignore\")\n",
    "\n",
    "import matplotlib.pyplot as plt\n",
    "import seaborn as sns\n",
    "from sklearn.model_selection import train_test_split\n",
    "\n",
    "from sklearn.ensemble import RandomForestClassifier\n",
    "from sklearn.linear_model import LogisticRegression\n",
    "from sklearn.tree import DecisionTreeClassifier\n",
    "from sklearn.tree import export_graphviz\n",
    "from sklearn.metrics import classification_report\n",
    "from sklearn.metrics import confusion_matrix\n",
    "                                  \n",
    "import graphviz\n",
    "from graphviz import Graph\n",
    "\n",
    "from scipy import stats\n"
   ]
  },
  {
   "cell_type": "markdown",
   "id": "f2b66c45",
   "metadata": {},
   "source": [
    "## Project Goals\n",
    "\n",
    "> - Find drivers for customer churn at Telco. Why are customers churning?\n",
    "\n",
    "> - Construct a ML classification model that accurately predicts customer churn.\n",
    "\n",
    "> - Document the process well enough to be presented or read like a report.\n",
    "\n",
    "## Executive Summary \n",
    "\n",
    "> - I found that all of the classification models I created, LogisticRegression, DecisionTree, and RandomForest predicted the churn rate with an accuracy no higher than 81%.\n",
    "> - I chose my Random Forest model with a max depth of 5 as my best model and got 82% accuracy rate for predicting churn when applied to the test split. This model outperformed my baseline score of 73% accuracy.\n",
    "> - Some initial exploration and statistical testing revealed that engineering some new features like \"add_ons\" and \"tenure_over_18_mos\" might help my models predict with even more accuracy. However once applied to the models, they made little difference. \n",
    "\n",
    "## Key Takeaways\n",
    "The following were the 5 most influential features to churn: (least to greatest)\n",
    "\n",
    "> - paperless billing\n",
    "> - auto pay\n",
    "> - internet_type_None\n",
    "> - Tenure over 18 months\n",
    "> - 2 Yr Contract"
   ]
  },
  {
   "cell_type": "markdown",
   "id": "5f757870",
   "metadata": {},
   "source": [
    "# Data Acquisition"
   ]
  },
  {
   "cell_type": "code",
   "execution_count": 2,
   "id": "d48f2b0f",
   "metadata": {},
   "outputs": [
    {
     "data": {
      "text/html": [
       "<div>\n",
       "<style scoped>\n",
       "    .dataframe tbody tr th:only-of-type {\n",
       "        vertical-align: middle;\n",
       "    }\n",
       "\n",
       "    .dataframe tbody tr th {\n",
       "        vertical-align: top;\n",
       "    }\n",
       "\n",
       "    .dataframe thead th {\n",
       "        text-align: right;\n",
       "    }\n",
       "</style>\n",
       "<table border=\"1\" class=\"dataframe\">\n",
       "  <thead>\n",
       "    <tr style=\"text-align: right;\">\n",
       "      <th></th>\n",
       "      <th>payment_type_id</th>\n",
       "      <th>internet_service_type_id</th>\n",
       "      <th>contract_type_id</th>\n",
       "      <th>customer_id</th>\n",
       "      <th>gender</th>\n",
       "      <th>senior_citizen</th>\n",
       "      <th>partner</th>\n",
       "      <th>dependents</th>\n",
       "      <th>tenure</th>\n",
       "      <th>phone_service</th>\n",
       "      <th>...</th>\n",
       "      <th>tech_support</th>\n",
       "      <th>streaming_tv</th>\n",
       "      <th>streaming_movies</th>\n",
       "      <th>paperless_billing</th>\n",
       "      <th>monthly_charges</th>\n",
       "      <th>total_charges</th>\n",
       "      <th>churn</th>\n",
       "      <th>contract_type</th>\n",
       "      <th>internet_service_type</th>\n",
       "      <th>payment_type</th>\n",
       "    </tr>\n",
       "  </thead>\n",
       "  <tbody>\n",
       "    <tr>\n",
       "      <th>0</th>\n",
       "      <td>2</td>\n",
       "      <td>1</td>\n",
       "      <td>3</td>\n",
       "      <td>0016-QLJIS</td>\n",
       "      <td>Female</td>\n",
       "      <td>0</td>\n",
       "      <td>Yes</td>\n",
       "      <td>Yes</td>\n",
       "      <td>65</td>\n",
       "      <td>Yes</td>\n",
       "      <td>...</td>\n",
       "      <td>Yes</td>\n",
       "      <td>Yes</td>\n",
       "      <td>Yes</td>\n",
       "      <td>Yes</td>\n",
       "      <td>90.45</td>\n",
       "      <td>5957.9</td>\n",
       "      <td>No</td>\n",
       "      <td>Two year</td>\n",
       "      <td>DSL</td>\n",
       "      <td>Mailed check</td>\n",
       "    </tr>\n",
       "    <tr>\n",
       "      <th>1</th>\n",
       "      <td>4</td>\n",
       "      <td>1</td>\n",
       "      <td>3</td>\n",
       "      <td>0017-DINOC</td>\n",
       "      <td>Male</td>\n",
       "      <td>0</td>\n",
       "      <td>No</td>\n",
       "      <td>No</td>\n",
       "      <td>54</td>\n",
       "      <td>No</td>\n",
       "      <td>...</td>\n",
       "      <td>Yes</td>\n",
       "      <td>Yes</td>\n",
       "      <td>No</td>\n",
       "      <td>No</td>\n",
       "      <td>45.20</td>\n",
       "      <td>2460.55</td>\n",
       "      <td>No</td>\n",
       "      <td>Two year</td>\n",
       "      <td>DSL</td>\n",
       "      <td>Credit card (automatic)</td>\n",
       "    </tr>\n",
       "    <tr>\n",
       "      <th>2</th>\n",
       "      <td>3</td>\n",
       "      <td>1</td>\n",
       "      <td>3</td>\n",
       "      <td>0019-GFNTW</td>\n",
       "      <td>Female</td>\n",
       "      <td>0</td>\n",
       "      <td>No</td>\n",
       "      <td>No</td>\n",
       "      <td>56</td>\n",
       "      <td>No</td>\n",
       "      <td>...</td>\n",
       "      <td>Yes</td>\n",
       "      <td>No</td>\n",
       "      <td>No</td>\n",
       "      <td>No</td>\n",
       "      <td>45.05</td>\n",
       "      <td>2560.1</td>\n",
       "      <td>No</td>\n",
       "      <td>Two year</td>\n",
       "      <td>DSL</td>\n",
       "      <td>Bank transfer (automatic)</td>\n",
       "    </tr>\n",
       "    <tr>\n",
       "      <th>3</th>\n",
       "      <td>4</td>\n",
       "      <td>1</td>\n",
       "      <td>3</td>\n",
       "      <td>0056-EPFBG</td>\n",
       "      <td>Male</td>\n",
       "      <td>0</td>\n",
       "      <td>Yes</td>\n",
       "      <td>Yes</td>\n",
       "      <td>20</td>\n",
       "      <td>No</td>\n",
       "      <td>...</td>\n",
       "      <td>Yes</td>\n",
       "      <td>No</td>\n",
       "      <td>No</td>\n",
       "      <td>Yes</td>\n",
       "      <td>39.40</td>\n",
       "      <td>825.4</td>\n",
       "      <td>No</td>\n",
       "      <td>Two year</td>\n",
       "      <td>DSL</td>\n",
       "      <td>Credit card (automatic)</td>\n",
       "    </tr>\n",
       "    <tr>\n",
       "      <th>4</th>\n",
       "      <td>3</td>\n",
       "      <td>1</td>\n",
       "      <td>3</td>\n",
       "      <td>0078-XZMHT</td>\n",
       "      <td>Male</td>\n",
       "      <td>0</td>\n",
       "      <td>Yes</td>\n",
       "      <td>No</td>\n",
       "      <td>72</td>\n",
       "      <td>Yes</td>\n",
       "      <td>...</td>\n",
       "      <td>Yes</td>\n",
       "      <td>Yes</td>\n",
       "      <td>Yes</td>\n",
       "      <td>Yes</td>\n",
       "      <td>85.15</td>\n",
       "      <td>6316.2</td>\n",
       "      <td>No</td>\n",
       "      <td>Two year</td>\n",
       "      <td>DSL</td>\n",
       "      <td>Bank transfer (automatic)</td>\n",
       "    </tr>\n",
       "  </tbody>\n",
       "</table>\n",
       "<p>5 rows × 24 columns</p>\n",
       "</div>"
      ],
      "text/plain": [
       "   payment_type_id  internet_service_type_id  contract_type_id customer_id  \\\n",
       "0                2                         1                 3  0016-QLJIS   \n",
       "1                4                         1                 3  0017-DINOC   \n",
       "2                3                         1                 3  0019-GFNTW   \n",
       "3                4                         1                 3  0056-EPFBG   \n",
       "4                3                         1                 3  0078-XZMHT   \n",
       "\n",
       "   gender  senior_citizen partner dependents  tenure phone_service  ...  \\\n",
       "0  Female               0     Yes        Yes      65           Yes  ...   \n",
       "1    Male               0      No         No      54            No  ...   \n",
       "2  Female               0      No         No      56            No  ...   \n",
       "3    Male               0     Yes        Yes      20            No  ...   \n",
       "4    Male               0     Yes         No      72           Yes  ...   \n",
       "\n",
       "  tech_support streaming_tv streaming_movies paperless_billing  \\\n",
       "0          Yes          Yes              Yes               Yes   \n",
       "1          Yes          Yes               No                No   \n",
       "2          Yes           No               No                No   \n",
       "3          Yes           No               No               Yes   \n",
       "4          Yes          Yes              Yes               Yes   \n",
       "\n",
       "  monthly_charges total_charges churn contract_type  internet_service_type  \\\n",
       "0           90.45        5957.9    No      Two year                    DSL   \n",
       "1           45.20       2460.55    No      Two year                    DSL   \n",
       "2           45.05        2560.1    No      Two year                    DSL   \n",
       "3           39.40         825.4    No      Two year                    DSL   \n",
       "4           85.15        6316.2    No      Two year                    DSL   \n",
       "\n",
       "                payment_type  \n",
       "0               Mailed check  \n",
       "1    Credit card (automatic)  \n",
       "2  Bank transfer (automatic)  \n",
       "3    Credit card (automatic)  \n",
       "4  Bank transfer (automatic)  \n",
       "\n",
       "[5 rows x 24 columns]"
      ]
     },
     "execution_count": 2,
     "metadata": {},
     "output_type": "execute_result"
    }
   ],
   "source": [
    "df = acquire.get_telco_data()\n",
    "df.head()"
   ]
  },
  {
   "cell_type": "markdown",
   "id": "c736a677",
   "metadata": {},
   "source": [
    "# Data Preperation"
   ]
  },
  {
   "cell_type": "markdown",
   "id": "a57ba2cc",
   "metadata": {},
   "source": [
    "Got familiar with data using Sequal ACE, Google Sheets, and Jupyter Lab"
   ]
  },
  {
   "cell_type": "code",
   "execution_count": 3,
   "id": "0e3d4cf8",
   "metadata": {},
   "outputs": [
    {
     "data": {
      "text/plain": [
       "payment_type_id             0\n",
       "internet_service_type_id    0\n",
       "contract_type_id            0\n",
       "customer_id                 0\n",
       "gender                      0\n",
       "senior_citizen              0\n",
       "partner                     0\n",
       "dependents                  0\n",
       "tenure                      0\n",
       "phone_service               0\n",
       "multiple_lines              0\n",
       "online_security             0\n",
       "online_backup               0\n",
       "device_protection           0\n",
       "tech_support                0\n",
       "streaming_tv                0\n",
       "streaming_movies            0\n",
       "paperless_billing           0\n",
       "monthly_charges             0\n",
       "total_charges               0\n",
       "churn                       0\n",
       "contract_type               0\n",
       "internet_service_type       0\n",
       "payment_type                0\n",
       "dtype: int64"
      ]
     },
     "execution_count": 3,
     "metadata": {},
     "output_type": "execute_result"
    }
   ],
   "source": [
    "df.isna().sum()"
   ]
  },
  {
   "cell_type": "code",
   "execution_count": 4,
   "id": "12e5e585",
   "metadata": {},
   "outputs": [
    {
     "name": "stdout",
     "output_type": "stream",
     "text": [
      "<class 'pandas.core.frame.DataFrame'>\n",
      "Int64Index: 7043 entries, 0 to 7042\n",
      "Data columns (total 24 columns):\n",
      " #   Column                    Non-Null Count  Dtype  \n",
      "---  ------                    --------------  -----  \n",
      " 0   payment_type_id           7043 non-null   int64  \n",
      " 1   internet_service_type_id  7043 non-null   int64  \n",
      " 2   contract_type_id          7043 non-null   int64  \n",
      " 3   customer_id               7043 non-null   object \n",
      " 4   gender                    7043 non-null   object \n",
      " 5   senior_citizen            7043 non-null   int64  \n",
      " 6   partner                   7043 non-null   object \n",
      " 7   dependents                7043 non-null   object \n",
      " 8   tenure                    7043 non-null   int64  \n",
      " 9   phone_service             7043 non-null   object \n",
      " 10  multiple_lines            7043 non-null   object \n",
      " 11  online_security           7043 non-null   object \n",
      " 12  online_backup             7043 non-null   object \n",
      " 13  device_protection         7043 non-null   object \n",
      " 14  tech_support              7043 non-null   object \n",
      " 15  streaming_tv              7043 non-null   object \n",
      " 16  streaming_movies          7043 non-null   object \n",
      " 17  paperless_billing         7043 non-null   object \n",
      " 18  monthly_charges           7043 non-null   float64\n",
      " 19  total_charges             7043 non-null   object \n",
      " 20  churn                     7043 non-null   object \n",
      " 21  contract_type             7043 non-null   object \n",
      " 22  internet_service_type     7043 non-null   object \n",
      " 23  payment_type              7043 non-null   object \n",
      "dtypes: float64(1), int64(5), object(18)\n",
      "memory usage: 1.3+ MB\n"
     ]
    }
   ],
   "source": [
    "df.info()"
   ]
  },
  {
   "cell_type": "code",
   "execution_count": 6,
   "id": "1d289043",
   "metadata": {},
   "outputs": [
    {
     "data": {
      "text/html": [
       "<div>\n",
       "<style scoped>\n",
       "    .dataframe tbody tr th:only-of-type {\n",
       "        vertical-align: middle;\n",
       "    }\n",
       "\n",
       "    .dataframe tbody tr th {\n",
       "        vertical-align: top;\n",
       "    }\n",
       "\n",
       "    .dataframe thead th {\n",
       "        text-align: right;\n",
       "    }\n",
       "</style>\n",
       "<table border=\"1\" class=\"dataframe\">\n",
       "  <thead>\n",
       "    <tr style=\"text-align: right;\">\n",
       "      <th></th>\n",
       "      <th>payment_type_id</th>\n",
       "      <th>internet_service_type_id</th>\n",
       "      <th>contract_type_id</th>\n",
       "      <th>senior_citizen</th>\n",
       "      <th>tenure</th>\n",
       "      <th>monthly_charges</th>\n",
       "    </tr>\n",
       "  </thead>\n",
       "  <tbody>\n",
       "    <tr>\n",
       "      <th>count</th>\n",
       "      <td>7043.000000</td>\n",
       "      <td>7043.000000</td>\n",
       "      <td>7043.000000</td>\n",
       "      <td>7043.000000</td>\n",
       "      <td>7043.000000</td>\n",
       "      <td>7043.000000</td>\n",
       "    </tr>\n",
       "    <tr>\n",
       "      <th>mean</th>\n",
       "      <td>2.315633</td>\n",
       "      <td>1.872923</td>\n",
       "      <td>1.690473</td>\n",
       "      <td>0.162147</td>\n",
       "      <td>32.371149</td>\n",
       "      <td>64.761692</td>\n",
       "    </tr>\n",
       "    <tr>\n",
       "      <th>std</th>\n",
       "      <td>1.148907</td>\n",
       "      <td>0.737796</td>\n",
       "      <td>0.833755</td>\n",
       "      <td>0.368612</td>\n",
       "      <td>24.559481</td>\n",
       "      <td>30.090047</td>\n",
       "    </tr>\n",
       "    <tr>\n",
       "      <th>min</th>\n",
       "      <td>1.000000</td>\n",
       "      <td>1.000000</td>\n",
       "      <td>1.000000</td>\n",
       "      <td>0.000000</td>\n",
       "      <td>0.000000</td>\n",
       "      <td>18.250000</td>\n",
       "    </tr>\n",
       "    <tr>\n",
       "      <th>25%</th>\n",
       "      <td>1.000000</td>\n",
       "      <td>1.000000</td>\n",
       "      <td>1.000000</td>\n",
       "      <td>0.000000</td>\n",
       "      <td>9.000000</td>\n",
       "      <td>35.500000</td>\n",
       "    </tr>\n",
       "    <tr>\n",
       "      <th>50%</th>\n",
       "      <td>2.000000</td>\n",
       "      <td>2.000000</td>\n",
       "      <td>1.000000</td>\n",
       "      <td>0.000000</td>\n",
       "      <td>29.000000</td>\n",
       "      <td>70.350000</td>\n",
       "    </tr>\n",
       "    <tr>\n",
       "      <th>75%</th>\n",
       "      <td>3.000000</td>\n",
       "      <td>2.000000</td>\n",
       "      <td>2.000000</td>\n",
       "      <td>0.000000</td>\n",
       "      <td>55.000000</td>\n",
       "      <td>89.850000</td>\n",
       "    </tr>\n",
       "    <tr>\n",
       "      <th>max</th>\n",
       "      <td>4.000000</td>\n",
       "      <td>3.000000</td>\n",
       "      <td>3.000000</td>\n",
       "      <td>1.000000</td>\n",
       "      <td>72.000000</td>\n",
       "      <td>118.750000</td>\n",
       "    </tr>\n",
       "  </tbody>\n",
       "</table>\n",
       "</div>"
      ],
      "text/plain": [
       "       payment_type_id  internet_service_type_id  contract_type_id  \\\n",
       "count      7043.000000               7043.000000       7043.000000   \n",
       "mean          2.315633                  1.872923          1.690473   \n",
       "std           1.148907                  0.737796          0.833755   \n",
       "min           1.000000                  1.000000          1.000000   \n",
       "25%           1.000000                  1.000000          1.000000   \n",
       "50%           2.000000                  2.000000          1.000000   \n",
       "75%           3.000000                  2.000000          2.000000   \n",
       "max           4.000000                  3.000000          3.000000   \n",
       "\n",
       "       senior_citizen       tenure  monthly_charges  \n",
       "count     7043.000000  7043.000000      7043.000000  \n",
       "mean         0.162147    32.371149        64.761692  \n",
       "std          0.368612    24.559481        30.090047  \n",
       "min          0.000000     0.000000        18.250000  \n",
       "25%          0.000000     9.000000        35.500000  \n",
       "50%          0.000000    29.000000        70.350000  \n",
       "75%          0.000000    55.000000        89.850000  \n",
       "max          1.000000    72.000000       118.750000  "
      ]
     },
     "execution_count": 6,
     "metadata": {},
     "output_type": "execute_result"
    }
   ],
   "source": [
    "df.describe()"
   ]
  },
  {
   "cell_type": "markdown",
   "id": "1a675272",
   "metadata": {},
   "source": [
    "Did not find nulls while going through data in jupyter notebook, but when looking through Google Sheets found 11 customers who have blank total charges, are under contract, but have not churned. However their tenure is 0 so we know they are new customers. Therefore, I will replace the blanks with 0's."
   ]
  },
  {
   "cell_type": "markdown",
   "id": "659ca0e1",
   "metadata": {},
   "source": [
    " <img src=\"11cases.png\" title=\"telco_logo\" width=\"300\" height=\"100\" />"
   ]
  },
  {
   "cell_type": "markdown",
   "id": "ddbed346",
   "metadata": {},
   "source": [
    "Once I saw all fields had inputs it was time to clean up the data. "
   ]
  },
  {
   "cell_type": "code",
   "execution_count": 13,
   "id": "1f30e896",
   "metadata": {},
   "outputs": [
    {
     "data": {
      "text/html": [
       "<div>\n",
       "<style scoped>\n",
       "    .dataframe tbody tr th:only-of-type {\n",
       "        vertical-align: middle;\n",
       "    }\n",
       "\n",
       "    .dataframe tbody tr th {\n",
       "        vertical-align: top;\n",
       "    }\n",
       "\n",
       "    .dataframe thead th {\n",
       "        text-align: right;\n",
       "    }\n",
       "</style>\n",
       "<table border=\"1\" class=\"dataframe\">\n",
       "  <thead>\n",
       "    <tr style=\"text-align: right;\">\n",
       "      <th></th>\n",
       "      <th>senior_citizen</th>\n",
       "      <th>partner</th>\n",
       "      <th>dependents</th>\n",
       "      <th>tenure</th>\n",
       "      <th>phone_service</th>\n",
       "      <th>multiple_lines</th>\n",
       "      <th>paperless_billing</th>\n",
       "      <th>monthly_charges</th>\n",
       "      <th>total_charges</th>\n",
       "      <th>churn</th>\n",
       "      <th>auto_pay</th>\n",
       "      <th>gender_Male</th>\n",
       "      <th>internet_service_type_DSL</th>\n",
       "      <th>internet_service_type_Fiber optic</th>\n",
       "      <th>internet_service_type_None</th>\n",
       "      <th>contract_type_Month-to-month</th>\n",
       "      <th>contract_type_One year</th>\n",
       "      <th>contract_type_Two year</th>\n",
       "      <th>add_ons</th>\n",
       "    </tr>\n",
       "  </thead>\n",
       "  <tbody>\n",
       "    <tr>\n",
       "      <th>0</th>\n",
       "      <td>0</td>\n",
       "      <td>1</td>\n",
       "      <td>1</td>\n",
       "      <td>65</td>\n",
       "      <td>1</td>\n",
       "      <td>1</td>\n",
       "      <td>1</td>\n",
       "      <td>90.45</td>\n",
       "      <td>5957.90</td>\n",
       "      <td>0</td>\n",
       "      <td>0</td>\n",
       "      <td>0</td>\n",
       "      <td>1</td>\n",
       "      <td>0</td>\n",
       "      <td>0</td>\n",
       "      <td>0</td>\n",
       "      <td>0</td>\n",
       "      <td>1</td>\n",
       "      <td>1</td>\n",
       "    </tr>\n",
       "    <tr>\n",
       "      <th>1</th>\n",
       "      <td>0</td>\n",
       "      <td>0</td>\n",
       "      <td>0</td>\n",
       "      <td>54</td>\n",
       "      <td>0</td>\n",
       "      <td>0</td>\n",
       "      <td>0</td>\n",
       "      <td>45.20</td>\n",
       "      <td>2460.55</td>\n",
       "      <td>0</td>\n",
       "      <td>1</td>\n",
       "      <td>1</td>\n",
       "      <td>1</td>\n",
       "      <td>0</td>\n",
       "      <td>0</td>\n",
       "      <td>0</td>\n",
       "      <td>0</td>\n",
       "      <td>1</td>\n",
       "      <td>1</td>\n",
       "    </tr>\n",
       "    <tr>\n",
       "      <th>2</th>\n",
       "      <td>0</td>\n",
       "      <td>0</td>\n",
       "      <td>0</td>\n",
       "      <td>56</td>\n",
       "      <td>0</td>\n",
       "      <td>0</td>\n",
       "      <td>0</td>\n",
       "      <td>45.05</td>\n",
       "      <td>2560.10</td>\n",
       "      <td>0</td>\n",
       "      <td>1</td>\n",
       "      <td>0</td>\n",
       "      <td>1</td>\n",
       "      <td>0</td>\n",
       "      <td>0</td>\n",
       "      <td>0</td>\n",
       "      <td>0</td>\n",
       "      <td>1</td>\n",
       "      <td>1</td>\n",
       "    </tr>\n",
       "    <tr>\n",
       "      <th>3</th>\n",
       "      <td>0</td>\n",
       "      <td>1</td>\n",
       "      <td>1</td>\n",
       "      <td>20</td>\n",
       "      <td>0</td>\n",
       "      <td>0</td>\n",
       "      <td>1</td>\n",
       "      <td>39.40</td>\n",
       "      <td>825.40</td>\n",
       "      <td>0</td>\n",
       "      <td>1</td>\n",
       "      <td>1</td>\n",
       "      <td>1</td>\n",
       "      <td>0</td>\n",
       "      <td>0</td>\n",
       "      <td>0</td>\n",
       "      <td>0</td>\n",
       "      <td>1</td>\n",
       "      <td>1</td>\n",
       "    </tr>\n",
       "    <tr>\n",
       "      <th>4</th>\n",
       "      <td>0</td>\n",
       "      <td>1</td>\n",
       "      <td>0</td>\n",
       "      <td>72</td>\n",
       "      <td>1</td>\n",
       "      <td>1</td>\n",
       "      <td>1</td>\n",
       "      <td>85.15</td>\n",
       "      <td>6316.20</td>\n",
       "      <td>0</td>\n",
       "      <td>1</td>\n",
       "      <td>1</td>\n",
       "      <td>1</td>\n",
       "      <td>0</td>\n",
       "      <td>0</td>\n",
       "      <td>0</td>\n",
       "      <td>0</td>\n",
       "      <td>1</td>\n",
       "      <td>1</td>\n",
       "    </tr>\n",
       "  </tbody>\n",
       "</table>\n",
       "</div>"
      ],
      "text/plain": [
       "   senior_citizen  partner  dependents  tenure  phone_service  multiple_lines  \\\n",
       "0               0        1           1      65              1               1   \n",
       "1               0        0           0      54              0               0   \n",
       "2               0        0           0      56              0               0   \n",
       "3               0        1           1      20              0               0   \n",
       "4               0        1           0      72              1               1   \n",
       "\n",
       "   paperless_billing  monthly_charges  total_charges  churn  auto_pay  \\\n",
       "0                  1            90.45        5957.90      0         0   \n",
       "1                  0            45.20        2460.55      0         1   \n",
       "2                  0            45.05        2560.10      0         1   \n",
       "3                  1            39.40         825.40      0         1   \n",
       "4                  1            85.15        6316.20      0         1   \n",
       "\n",
       "   gender_Male  internet_service_type_DSL  internet_service_type_Fiber optic  \\\n",
       "0            0                          1                                  0   \n",
       "1            1                          1                                  0   \n",
       "2            0                          1                                  0   \n",
       "3            1                          1                                  0   \n",
       "4            1                          1                                  0   \n",
       "\n",
       "   internet_service_type_None  contract_type_Month-to-month  \\\n",
       "0                           0                             0   \n",
       "1                           0                             0   \n",
       "2                           0                             0   \n",
       "3                           0                             0   \n",
       "4                           0                             0   \n",
       "\n",
       "   contract_type_One year  contract_type_Two year  add_ons  \n",
       "0                       0                       1        1  \n",
       "1                       0                       1        1  \n",
       "2                       0                       1        1  \n",
       "3                       0                       1        1  \n",
       "4                       0                       1        1  "
      ]
     },
     "execution_count": 13,
     "metadata": {},
     "output_type": "execute_result"
    }
   ],
   "source": [
    "df = prepare.clean_telco(df) # Detailed notes available inside prepare.py file\n",
    "df.head()"
   ]
  },
  {
   "cell_type": "markdown",
   "id": "33941f3c",
   "metadata": {},
   "source": [
    "Once the DataFrame looked the way I wanted it to, it was time to explore the data. I went with a 20(test), 24(validate), 56(train) split. "
   ]
  },
  {
   "cell_type": "code",
   "execution_count": 22,
   "id": "9a2d0023",
   "metadata": {},
   "outputs": [],
   "source": [
    "def train_validate_test_split(df, target, seed=123):\n",
    "    train_validate, test = train_test_split(df, test_size=0.2, \n",
    "                                            random_state=seed, \n",
    "                                            stratify=df[target])\n",
    "    train, validate = train_test_split(train_validate, test_size=0.3, \n",
    "                                       random_state=seed,\n",
    "                                       stratify=train_validate[target])\n",
    "    return train, validate, test"
   ]
  },
  {
   "cell_type": "code",
   "execution_count": 23,
   "id": "aaa576f6",
   "metadata": {},
   "outputs": [],
   "source": [
    "train, validate, test = train_validate_test_split(df, 'churn', seed=123)"
   ]
  },
  {
   "cell_type": "code",
   "execution_count": 24,
   "id": "c3f782d4",
   "metadata": {},
   "outputs": [
    {
     "data": {
      "text/plain": [
       "((3943, 19), (1691, 19), (1409, 19))"
      ]
     },
     "execution_count": 24,
     "metadata": {},
     "output_type": "execute_result"
    }
   ],
   "source": [
    "train.shape, validate.shape, test.shape"
   ]
  },
  {
   "cell_type": "markdown",
   "id": "5240725a",
   "metadata": {},
   "source": [
    "# Data Exploration"
   ]
  },
  {
   "cell_type": "code",
   "execution_count": 25,
   "id": "10f450ac",
   "metadata": {},
   "outputs": [
    {
     "data": {
      "text/plain": [
       "senior_citizen                       0\n",
       "partner                              0\n",
       "dependents                           0\n",
       "tenure                               0\n",
       "phone_service                        0\n",
       "multiple_lines                       0\n",
       "paperless_billing                    0\n",
       "monthly_charges                      0\n",
       "total_charges                        0\n",
       "churn                                0\n",
       "auto_pay                             0\n",
       "gender_Male                          0\n",
       "internet_service_type_DSL            0\n",
       "internet_service_type_Fiber optic    0\n",
       "internet_service_type_None           0\n",
       "contract_type_Month-to-month         0\n",
       "contract_type_One year               0\n",
       "contract_type_Two year               0\n",
       "add_ons                              0\n",
       "dtype: int64"
      ]
     },
     "execution_count": 25,
     "metadata": {},
     "output_type": "execute_result"
    }
   ],
   "source": [
    "train.isna().sum()"
   ]
  },
  {
   "cell_type": "code",
   "execution_count": 26,
   "id": "b3ec6d8a",
   "metadata": {},
   "outputs": [
    {
     "data": {
      "text/plain": [
       "<AxesSubplot:>"
      ]
     },
     "execution_count": 26,
     "metadata": {},
     "output_type": "execute_result"
    },
    {
     "data": {
      "image/png": "[encoded data removed]",
      "text/plain": [
       "<Figure size 432x288 with 1 Axes>"
      ]
     },
     "metadata": {
      "needs_background": "light"
     },
     "output_type": "display_data"
    }
   ],
   "source": [
    "train.churn.hist()"
   ]
  },
  {
   "cell_type": "code",
   "execution_count": 27,
   "id": "03e16ef8",
   "metadata": {},
   "outputs": [
    {
     "data": {
      "text/plain": [
       "<AxesSubplot:>"
      ]
     },
     "execution_count": 27,
     "metadata": {},
     "output_type": "execute_result"
    },
    {
     "data": {
      "image/png": "[encoded data removed]",
      "text/plain": [
       "<Figure size 432x288 with 1 Axes>"
      ]
     },
     "metadata": {
      "needs_background": "light"
     },
     "output_type": "display_data"
    }
   ],
   "source": [
    "train.tenure.hist()"
   ]
  },
  {
   "cell_type": "markdown",
   "id": "1d7fcce3",
   "metadata": {},
   "source": [
    "At this point I wanted to look for features that might stand out. So I created two new groups (Churned and Loyal customers). The following shows proportions for the overall group, churned group, and loyal group by column. \n",
    "\n",
    "The 5 features that stood out for me were:\n",
    "- paperless_billing\n",
    "- auto_pay\n",
    "- internet_type_none\n",
    "- Month-to-month\n",
    "- Two Year "
   ]
  },
  {
   "cell_type": "code",
   "execution_count": 29,
   "id": "c24eb8c1",
   "metadata": {
    "scrolled": false
   },
   "outputs": [
    {
     "name": "stdout",
     "output_type": "stream",
     "text": [
      "senior_citizen\n",
      "Population:\n",
      "0    0.837853\n",
      "1    0.162147\n",
      "Name: senior_citizen, dtype: float64\n",
      "Churned Customers:\n",
      "0    0.745318\n",
      "1    0.254682\n",
      "Name: senior_citizen, dtype: float64\n",
      "Loyal Customers:\n",
      "0    0.871279\n",
      "1    0.128721\n",
      "Name: senior_citizen, dtype: float64\n",
      "\n",
      "\n",
      "partner\n",
      "Population:\n",
      "0    0.516967\n",
      "1    0.483033\n",
      "Name: partner, dtype: float64\n",
      "Churned Customers:\n",
      "0    0.642055\n",
      "1    0.357945\n",
      "Name: partner, dtype: float64\n",
      "Loyal Customers:\n",
      "1    0.528218\n",
      "0    0.471782\n",
      "Name: partner, dtype: float64\n",
      "\n",
      "\n",
      "dependents\n",
      "Population:\n",
      "0    0.700412\n",
      "1    0.299588\n",
      "Name: dependents, dtype: float64\n",
      "Churned Customers:\n",
      "0    0.825575\n",
      "1    0.174425\n",
      "Name: dependents, dtype: float64\n",
      "Loyal Customers:\n",
      "0    0.655199\n",
      "1    0.344801\n",
      "Name: dependents, dtype: float64\n",
      "\n",
      "\n",
      "tenure\n",
      "Population:\n",
      "1     0.087037\n",
      "72    0.051399\n",
      "2     0.033792\n",
      "3     0.028397\n",
      "4     0.024989\n",
      "        ...   \n",
      "28    0.008093\n",
      "39    0.007951\n",
      "44    0.007241\n",
      "36    0.007099\n",
      "0     0.001562\n",
      "Name: tenure, Length: 73, dtype: float64\n",
      "Churned Customers:\n",
      "1     0.203317\n",
      "2     0.065811\n",
      "3     0.050294\n",
      "4     0.044409\n",
      "5     0.034243\n",
      "        ...   \n",
      "71    0.003210\n",
      "72    0.003210\n",
      "62    0.002675\n",
      "63    0.002140\n",
      "64    0.002140\n",
      "Name: tenure, Length: 72, dtype: float64\n",
      "Loyal Customers:\n",
      "72    0.068806\n",
      "1     0.045033\n",
      "71    0.031697\n",
      "2     0.022227\n",
      "70    0.020874\n",
      "        ...   \n",
      "44    0.008697\n",
      "28    0.008697\n",
      "39    0.008118\n",
      "36    0.007731\n",
      "0     0.002126\n",
      "Name: tenure, Length: 73, dtype: float64\n",
      "\n",
      "\n",
      "phone_service\n",
      "Population:\n",
      "1    0.903166\n",
      "0    0.096834\n",
      "Name: phone_service, dtype: float64\n",
      "Churned Customers:\n",
      "1    0.909042\n",
      "0    0.090958\n",
      "Name: phone_service, dtype: float64\n",
      "Loyal Customers:\n",
      "1    0.901044\n",
      "0    0.098956\n",
      "Name: phone_service, dtype: float64\n",
      "\n",
      "\n",
      "multiple_lines\n",
      "Population:\n",
      "0    0.578163\n",
      "1    0.421837\n",
      "Name: multiple_lines, dtype: float64\n",
      "Churned Customers:\n",
      "0    0.545211\n",
      "1    0.454789\n",
      "Name: multiple_lines, dtype: float64\n",
      "Loyal Customers:\n",
      "0    0.590066\n",
      "1    0.409934\n",
      "Name: multiple_lines, dtype: float64\n",
      "\n",
      "\n",
      "paperless_billing\n",
      "Population:\n",
      "1    0.592219\n",
      "0    0.407781\n",
      "Name: paperless_billing, dtype: float64\n",
      "Churned Customers:\n",
      "1    0.749064\n",
      "0    0.250936\n",
      "Name: paperless_billing, dtype: float64\n",
      "Loyal Customers:\n",
      "1    0.535562\n",
      "0    0.464438\n",
      "Name: paperless_billing, dtype: float64\n",
      "\n",
      "\n",
      "monthly_charges\n",
      "Population:\n",
      "20.05     0.008661\n",
      "19.85     0.006389\n",
      "19.90     0.006247\n",
      "19.95     0.006247\n",
      "20.00     0.006105\n",
      "            ...   \n",
      "30.30     0.000142\n",
      "56.45     0.000142\n",
      "117.50    0.000142\n",
      "40.00     0.000142\n",
      "97.25     0.000142\n",
      "Name: monthly_charges, Length: 1585, dtype: float64\n",
      "Churned Customers:\n",
      "74.40     0.006956\n",
      "74.90     0.004815\n",
      "74.95     0.004280\n",
      "45.30     0.004280\n",
      "70.00     0.003745\n",
      "            ...   \n",
      "24.35     0.000535\n",
      "97.95     0.000535\n",
      "74.85     0.000535\n",
      "74.10     0.000535\n",
      "104.25    0.000535\n",
      "Name: monthly_charges, Length: 910, dtype: float64\n",
      "Loyal Customers:\n",
      "20.05     0.011210\n",
      "19.95     0.007924\n",
      "19.70     0.007924\n",
      "19.90     0.007731\n",
      "19.85     0.007731\n",
      "            ...   \n",
      "36.15     0.000193\n",
      "92.60     0.000193\n",
      "109.85    0.000193\n",
      "53.35     0.000193\n",
      "97.25     0.000193\n",
      "Name: monthly_charges, Length: 1460, dtype: float64\n",
      "\n",
      "\n",
      "total_charges\n",
      "Population:\n",
      "0.00       0.001562\n",
      "20.20      0.001562\n",
      "19.75      0.001278\n",
      "19.65      0.001136\n",
      "20.05      0.001136\n",
      "             ...   \n",
      "775.30     0.000142\n",
      "6841.30    0.000142\n",
      "75.70      0.000142\n",
      "3888.65    0.000142\n",
      "5867.00    0.000142\n",
      "Name: total_charges, Length: 6531, dtype: float64\n",
      "Churned Customers:\n",
      "20.20      0.003210\n",
      "45.30      0.002675\n",
      "19.90      0.002140\n",
      "20.15      0.002140\n",
      "69.60      0.002140\n",
      "             ...   \n",
      "1520.90    0.000535\n",
      "89.90      0.000535\n",
      "788.80     0.000535\n",
      "4367.35    0.000535\n",
      "7101.50    0.000535\n",
      "Name: total_charges, Length: 1732, dtype: float64\n",
      "Loyal Customers:\n",
      "0.00       0.002126\n",
      "19.75      0.001353\n",
      "20.05      0.001160\n",
      "19.55      0.001160\n",
      "19.65      0.001160\n",
      "             ...   \n",
      "3007.25    0.000193\n",
      "3771.50    0.000193\n",
      "4911.35    0.000193\n",
      "1130.00    0.000193\n",
      "5730.70    0.000193\n",
      "Name: total_charges, Length: 4966, dtype: float64\n",
      "\n",
      "\n",
      "churn\n",
      "Population:\n",
      "0    0.73463\n",
      "1    0.26537\n",
      "Name: churn, dtype: float64\n",
      "Churned Customers:\n",
      "1    1.0\n",
      "Name: churn, dtype: float64\n",
      "Loyal Customers:\n",
      "0    1.0\n",
      "Name: churn, dtype: float64\n",
      "\n",
      "\n",
      "auto_pay\n",
      "Population:\n",
      "0    0.564674\n",
      "1    0.435326\n",
      "Name: auto_pay, dtype: float64\n",
      "Churned Customers:\n",
      "0    0.737828\n",
      "1    0.262172\n",
      "Name: auto_pay, dtype: float64\n",
      "Loyal Customers:\n",
      "0    0.502126\n",
      "1    0.497874\n",
      "Name: auto_pay, dtype: float64\n",
      "\n",
      "\n",
      "gender_Male\n",
      "Population:\n",
      "1    0.504756\n",
      "0    0.495244\n",
      "Name: gender_Male, dtype: float64\n",
      "Churned Customers:\n",
      "0    0.502408\n",
      "1    0.497592\n",
      "Name: gender_Male, dtype: float64\n",
      "Loyal Customers:\n",
      "1    0.507344\n",
      "0    0.492656\n",
      "Name: gender_Male, dtype: float64\n",
      "\n",
      "\n",
      "internet_service_type_DSL\n",
      "Population:\n",
      "0    0.656254\n",
      "1    0.343746\n",
      "Name: internet_service_type_DSL, dtype: float64\n",
      "Churned Customers:\n",
      "0    0.754414\n",
      "1    0.245586\n",
      "Name: internet_service_type_DSL, dtype: float64\n",
      "Loyal Customers:\n",
      "0    0.620796\n",
      "1    0.379204\n",
      "Name: internet_service_type_DSL, dtype: float64\n",
      "\n",
      "\n",
      "internet_service_type_Fiber optic\n",
      "Population:\n",
      "0    0.560415\n",
      "1    0.439585\n",
      "Name: internet_service_type_Fiber optic, dtype: float64\n",
      "Churned Customers:\n",
      "1    0.693954\n",
      "0    0.306046\n",
      "Name: internet_service_type_Fiber optic, dtype: float64\n",
      "Loyal Customers:\n",
      "0    0.6523\n",
      "1    0.3477\n",
      "Name: internet_service_type_Fiber optic, dtype: float64\n",
      "\n",
      "\n",
      "internet_service_type_None\n",
      "Population:\n",
      "0    0.783331\n",
      "1    0.216669\n",
      "Name: internet_service_type_None, dtype: float64\n",
      "Churned Customers:\n",
      "0    0.93954\n",
      "1    0.06046\n",
      "Name: internet_service_type_None, dtype: float64\n",
      "Loyal Customers:\n",
      "0    0.726904\n",
      "1    0.273096\n",
      "Name: internet_service_type_None, dtype: float64\n",
      "\n",
      "\n",
      "contract_type_Month-to-month\n",
      "Population:\n",
      "1    0.550192\n",
      "0    0.449808\n",
      "Name: contract_type_Month-to-month, dtype: float64\n",
      "Churned Customers:\n",
      "1    0.8855\n",
      "0    0.1145\n",
      "Name: contract_type_Month-to-month, dtype: float64\n",
      "Loyal Customers:\n",
      "0    0.570932\n",
      "1    0.429068\n",
      "Name: contract_type_Month-to-month, dtype: float64\n",
      "\n",
      "\n",
      "contract_type_One year\n",
      "Population:\n",
      "0    0.790856\n",
      "1    0.209144\n",
      "Name: contract_type_One year, dtype: float64\n",
      "Churned Customers:\n",
      "0    0.911182\n",
      "1    0.088818\n",
      "Name: contract_type_One year, dtype: float64\n",
      "Loyal Customers:\n",
      "0    0.747391\n",
      "1    0.252609\n",
      "Name: contract_type_One year, dtype: float64\n",
      "\n",
      "\n",
      "contract_type_Two year\n",
      "Population:\n",
      "0    0.759336\n",
      "1    0.240664\n",
      "Name: contract_type_Two year, dtype: float64\n",
      "Churned Customers:\n",
      "0    0.974318\n",
      "1    0.025682\n",
      "Name: contract_type_Two year, dtype: float64\n",
      "Loyal Customers:\n",
      "0    0.681678\n",
      "1    0.318322\n",
      "Name: contract_type_Two year, dtype: float64\n",
      "\n",
      "\n",
      "add_ons\n",
      "Population:\n",
      "1    0.684935\n",
      "0    0.315065\n",
      "Name: add_ons, dtype: float64\n",
      "Churned Customers:\n",
      "1    0.745853\n",
      "0    0.254147\n",
      "Name: add_ons, dtype: float64\n",
      "Loyal Customers:\n",
      "1    0.66293\n",
      "0    0.33707\n",
      "Name: add_ons, dtype: float64\n",
      "\n",
      "\n"
     ]
    }
   ],
   "source": [
    "churned_customers = df[df.churn == 1]\n",
    "loyal_customers = df[df.churn == 0]\n",
    "\n",
    "for column in df.columns:\n",
    "    print(column)\n",
    "    print(\"Population:\")\n",
    "    print(df[column].value_counts(normalize=True))\n",
    "    print(\"Churned Customers:\")\n",
    "    print(churned_customers[column].value_counts(normalize=True))\n",
    "    print(\"Loyal Customers:\")\n",
    "    print(loyal_customers[column].value_counts(normalize=True))\n",
    "    print()\n",
    "    print()"
   ]
  },
  {
   "cell_type": "markdown",
   "id": "ecb6883f",
   "metadata": {},
   "source": [
    "Because 2 of the 5 features have to do with contract types, I started thinking of tenure. So I compared average tenure for different groups. "
   ]
  },
  {
   "cell_type": "code",
   "execution_count": 30,
   "id": "2525c933",
   "metadata": {},
   "outputs": [
    {
     "data": {
      "text/plain": [
       "(32.37114865824223, 17.979133226324237, 37.56996521066873)"
      ]
     },
     "execution_count": 30,
     "metadata": {},
     "output_type": "execute_result"
    }
   ],
   "source": [
    "# Compared population vs churned vs loyal\n",
    "df.tenure.mean(), churned_customers.tenure.mean(), loyal_customers.tenure.mean()"
   ]
  },
  {
   "cell_type": "code",
   "execution_count": 38,
   "id": "ff2d4f99",
   "metadata": {
    "scrolled": true
   },
   "outputs": [
    {
     "data": {
      "text/plain": [
       "0.02831858407079646"
      ]
     },
     "execution_count": 38,
     "metadata": {},
     "output_type": "execute_result"
    }
   ],
   "source": [
    "# 2 yr contract\n",
    "df[df['contract_type_Two year'] == 1].churn.mean()\n",
    "# Very low churn rate"
   ]
  },
  {
   "cell_type": "code",
   "execution_count": 39,
   "id": "2120c0f7",
   "metadata": {},
   "outputs": [
    {
     "data": {
      "text/plain": [
       "56.73510324483776"
      ]
     },
     "execution_count": 39,
     "metadata": {},
     "output_type": "execute_result"
    }
   ],
   "source": [
    "df[df['contract_type_Two year'] == 1].tenure.mean()\n",
    "# Long tenure"
   ]
  },
  {
   "cell_type": "code",
   "execution_count": null,
   "id": "78080571",
   "metadata": {},
   "outputs": [],
   "source": []
  },
  {
   "cell_type": "code",
   "execution_count": 40,
   "id": "d27fccb2",
   "metadata": {},
   "outputs": [
    {
     "data": {
      "text/plain": [
       "0.11269517990495587"
      ]
     },
     "execution_count": 40,
     "metadata": {},
     "output_type": "execute_result"
    }
   ],
   "source": [
    "# 1yr contract\n",
    "df[df['contract_type_One year'] == 1].churn.mean()\n",
    "# Low churn rate"
   ]
  },
  {
   "cell_type": "code",
   "execution_count": 41,
   "id": "82433bac",
   "metadata": {},
   "outputs": [
    {
     "data": {
      "text/plain": [
       "42.044806517311606"
      ]
     },
     "execution_count": 41,
     "metadata": {},
     "output_type": "execute_result"
    }
   ],
   "source": [
    "df[df['contract_type_One year'] == 1].tenure.mean()\n",
    "# Almost 4 yrs tenure"
   ]
  },
  {
   "cell_type": "code",
   "execution_count": null,
   "id": "62e61ca8",
   "metadata": {},
   "outputs": [],
   "source": []
  },
  {
   "cell_type": "code",
   "execution_count": 42,
   "id": "e2c91ed1",
   "metadata": {},
   "outputs": [
    {
     "data": {
      "text/plain": [
       "0.4270967741935484"
      ]
     },
     "execution_count": 42,
     "metadata": {},
     "output_type": "execute_result"
    }
   ],
   "source": [
    "# Month-to-month\n",
    "df[df['contract_type_Month-to-month'] == 1].churn.mean()\n",
    "# High churn rate"
   ]
  },
  {
   "cell_type": "code",
   "execution_count": 43,
   "id": "04badbe6",
   "metadata": {},
   "outputs": [
    {
     "data": {
      "text/plain": [
       "18.036645161290323"
      ]
     },
     "execution_count": 43,
     "metadata": {},
     "output_type": "execute_result"
    }
   ],
   "source": [
    "df[df['contract_type_Month-to-month'] == 1].tenure.mean()\n",
    "# Less than 2 yrs tenure"
   ]
  },
  {
   "cell_type": "code",
   "execution_count": null,
   "id": "d30272cf",
   "metadata": {},
   "outputs": [],
   "source": []
  },
  {
   "cell_type": "code",
   "execution_count": 44,
   "id": "bb9bc38a",
   "metadata": {},
   "outputs": [
    {
     "data": {
      "text/plain": [
       "0.06755050505050506"
      ]
     },
     "execution_count": 44,
     "metadata": {},
     "output_type": "execute_result"
    }
   ],
   "source": [
    "# Has 1 or 2 yr contract\n",
    "df[df['contract_type_Month-to-month'] == 0].churn.mean()\n",
    "# Very low churn rate"
   ]
  },
  {
   "cell_type": "code",
   "execution_count": 45,
   "id": "a27745c8",
   "metadata": {},
   "outputs": [
    {
     "data": {
      "text/plain": [
       "49.904671717171716"
      ]
     },
     "execution_count": 45,
     "metadata": {},
     "output_type": "execute_result"
    }
   ],
   "source": [
    "df[df['contract_type_Month-to-month'] == 0].tenure.mean()\n",
    "# Over 4 yrs tenure"
   ]
  },
  {
   "cell_type": "markdown",
   "id": "6a536cac",
   "metadata": {},
   "source": [
    "This got me thinking... \"Is tenure(continuous) independent of churn?\" and also \"Is having a 2 year contract(categorical) independent of churn?\""
   ]
  },
  {
   "cell_type": "markdown",
   "id": "c5d86f18",
   "metadata": {},
   "source": [
    "To make tenure categorical I made a new column called \"over_18_mos\". Since this was the average tenure for month to month customers and also churned customers, I wanted to see how this would impact stats testing. "
   ]
  },
  {
   "cell_type": "markdown",
   "id": "166333bd",
   "metadata": {},
   "source": [
    "# Chi2 Test"
   ]
  },
  {
   "cell_type": "markdown",
   "id": "93178c81",
   "metadata": {},
   "source": [
    "> - **Hypothesis 1 -**\n",
    "> - alpha = .05\n",
    "> - $H_0$: Tenure over 18 months is independent of churn  \n",
    "> - $H_a$: Tenure over 18 months is not independent of churn\n",
    "> - Outcome: I rejected the Null Hypothesis; Therefore we reject that tenure over 18 months is independent of churn. "
   ]
  },
  {
   "cell_type": "code",
   "execution_count": 53,
   "id": "2fff0cdc",
   "metadata": {},
   "outputs": [],
   "source": [
    "a = 0.05"
   ]
  },
  {
   "cell_type": "code",
   "execution_count": 47,
   "id": "0d4ce551",
   "metadata": {
    "scrolled": true
   },
   "outputs": [
    {
     "data": {
      "text/html": [
       "<div>\n",
       "<style scoped>\n",
       "    .dataframe tbody tr th:only-of-type {\n",
       "        vertical-align: middle;\n",
       "    }\n",
       "\n",
       "    .dataframe tbody tr th {\n",
       "        vertical-align: top;\n",
       "    }\n",
       "\n",
       "    .dataframe thead th {\n",
       "        text-align: right;\n",
       "    }\n",
       "</style>\n",
       "<table border=\"1\" class=\"dataframe\">\n",
       "  <thead>\n",
       "    <tr style=\"text-align: right;\">\n",
       "      <th></th>\n",
       "      <th>senior_citizen</th>\n",
       "      <th>partner</th>\n",
       "      <th>dependents</th>\n",
       "      <th>tenure</th>\n",
       "      <th>phone_service</th>\n",
       "      <th>multiple_lines</th>\n",
       "      <th>paperless_billing</th>\n",
       "      <th>monthly_charges</th>\n",
       "      <th>total_charges</th>\n",
       "      <th>churn</th>\n",
       "      <th>auto_pay</th>\n",
       "      <th>gender_Male</th>\n",
       "      <th>internet_service_type_DSL</th>\n",
       "      <th>internet_service_type_Fiber optic</th>\n",
       "      <th>internet_service_type_None</th>\n",
       "      <th>contract_type_Month-to-month</th>\n",
       "      <th>contract_type_One year</th>\n",
       "      <th>contract_type_Two year</th>\n",
       "      <th>add_ons</th>\n",
       "      <th>over_18_mos</th>\n",
       "    </tr>\n",
       "  </thead>\n",
       "  <tbody>\n",
       "    <tr>\n",
       "      <th>0</th>\n",
       "      <td>0</td>\n",
       "      <td>1</td>\n",
       "      <td>1</td>\n",
       "      <td>65</td>\n",
       "      <td>1</td>\n",
       "      <td>1</td>\n",
       "      <td>1</td>\n",
       "      <td>90.45</td>\n",
       "      <td>5957.90</td>\n",
       "      <td>0</td>\n",
       "      <td>0</td>\n",
       "      <td>0</td>\n",
       "      <td>1</td>\n",
       "      <td>0</td>\n",
       "      <td>0</td>\n",
       "      <td>0</td>\n",
       "      <td>0</td>\n",
       "      <td>1</td>\n",
       "      <td>1</td>\n",
       "      <td>1</td>\n",
       "    </tr>\n",
       "    <tr>\n",
       "      <th>1</th>\n",
       "      <td>0</td>\n",
       "      <td>0</td>\n",
       "      <td>0</td>\n",
       "      <td>54</td>\n",
       "      <td>0</td>\n",
       "      <td>0</td>\n",
       "      <td>0</td>\n",
       "      <td>45.20</td>\n",
       "      <td>2460.55</td>\n",
       "      <td>0</td>\n",
       "      <td>1</td>\n",
       "      <td>1</td>\n",
       "      <td>1</td>\n",
       "      <td>0</td>\n",
       "      <td>0</td>\n",
       "      <td>0</td>\n",
       "      <td>0</td>\n",
       "      <td>1</td>\n",
       "      <td>1</td>\n",
       "      <td>1</td>\n",
       "    </tr>\n",
       "    <tr>\n",
       "      <th>2</th>\n",
       "      <td>0</td>\n",
       "      <td>0</td>\n",
       "      <td>0</td>\n",
       "      <td>56</td>\n",
       "      <td>0</td>\n",
       "      <td>0</td>\n",
       "      <td>0</td>\n",
       "      <td>45.05</td>\n",
       "      <td>2560.10</td>\n",
       "      <td>0</td>\n",
       "      <td>1</td>\n",
       "      <td>0</td>\n",
       "      <td>1</td>\n",
       "      <td>0</td>\n",
       "      <td>0</td>\n",
       "      <td>0</td>\n",
       "      <td>0</td>\n",
       "      <td>1</td>\n",
       "      <td>1</td>\n",
       "      <td>1</td>\n",
       "    </tr>\n",
       "    <tr>\n",
       "      <th>3</th>\n",
       "      <td>0</td>\n",
       "      <td>1</td>\n",
       "      <td>1</td>\n",
       "      <td>20</td>\n",
       "      <td>0</td>\n",
       "      <td>0</td>\n",
       "      <td>1</td>\n",
       "      <td>39.40</td>\n",
       "      <td>825.40</td>\n",
       "      <td>0</td>\n",
       "      <td>1</td>\n",
       "      <td>1</td>\n",
       "      <td>1</td>\n",
       "      <td>0</td>\n",
       "      <td>0</td>\n",
       "      <td>0</td>\n",
       "      <td>0</td>\n",
       "      <td>1</td>\n",
       "      <td>1</td>\n",
       "      <td>1</td>\n",
       "    </tr>\n",
       "    <tr>\n",
       "      <th>4</th>\n",
       "      <td>0</td>\n",
       "      <td>1</td>\n",
       "      <td>0</td>\n",
       "      <td>72</td>\n",
       "      <td>1</td>\n",
       "      <td>1</td>\n",
       "      <td>1</td>\n",
       "      <td>85.15</td>\n",
       "      <td>6316.20</td>\n",
       "      <td>0</td>\n",
       "      <td>1</td>\n",
       "      <td>1</td>\n",
       "      <td>1</td>\n",
       "      <td>0</td>\n",
       "      <td>0</td>\n",
       "      <td>0</td>\n",
       "      <td>0</td>\n",
       "      <td>1</td>\n",
       "      <td>1</td>\n",
       "      <td>1</td>\n",
       "    </tr>\n",
       "  </tbody>\n",
       "</table>\n",
       "</div>"
      ],
      "text/plain": [
       "   senior_citizen  partner  dependents  tenure  phone_service  multiple_lines  \\\n",
       "0               0        1           1      65              1               1   \n",
       "1               0        0           0      54              0               0   \n",
       "2               0        0           0      56              0               0   \n",
       "3               0        1           1      20              0               0   \n",
       "4               0        1           0      72              1               1   \n",
       "\n",
       "   paperless_billing  monthly_charges  total_charges  churn  auto_pay  \\\n",
       "0                  1            90.45        5957.90      0         0   \n",
       "1                  0            45.20        2460.55      0         1   \n",
       "2                  0            45.05        2560.10      0         1   \n",
       "3                  1            39.40         825.40      0         1   \n",
       "4                  1            85.15        6316.20      0         1   \n",
       "\n",
       "   gender_Male  internet_service_type_DSL  internet_service_type_Fiber optic  \\\n",
       "0            0                          1                                  0   \n",
       "1            1                          1                                  0   \n",
       "2            0                          1                                  0   \n",
       "3            1                          1                                  0   \n",
       "4            1                          1                                  0   \n",
       "\n",
       "   internet_service_type_None  contract_type_Month-to-month  \\\n",
       "0                           0                             0   \n",
       "1                           0                             0   \n",
       "2                           0                             0   \n",
       "3                           0                             0   \n",
       "4                           0                             0   \n",
       "\n",
       "   contract_type_One year  contract_type_Two year  add_ons  over_18_mos  \n",
       "0                       0                       1        1            1  \n",
       "1                       0                       1        1            1  \n",
       "2                       0                       1        1            1  \n",
       "3                       0                       1        1            1  \n",
       "4                       0                       1        1            1  "
      ]
     },
     "execution_count": 47,
     "metadata": {},
     "output_type": "execute_result"
    }
   ],
   "source": [
    "df['over_18_mos'] = (df.tenure >= 18)\n",
    "df[\"over_18_mos\"] = df['over_18_mos'].replace(to_replace = [True,False],value = [1,0])\n",
    "df.head()\n",
    "#Added column"
   ]
  },
  {
   "cell_type": "code",
   "execution_count": 48,
   "id": "54beabe9",
   "metadata": {},
   "outputs": [
    {
     "data": {
      "text/plain": [
       "((3943, 20), (1691, 20), (1409, 20))"
      ]
     },
     "execution_count": 48,
     "metadata": {},
     "output_type": "execute_result"
    }
   ],
   "source": [
    "train, validate, test = train_validate_test_split(df, 'churn', seed=123)\n",
    "train.shape, validate.shape, test.shape\n",
    "# Redid my splits"
   ]
  },
  {
   "cell_type": "code",
   "execution_count": 49,
   "id": "e96b46a8",
   "metadata": {},
   "outputs": [
    {
     "data": {
      "image/png": "[encoded data removed]",
      "text/plain": [
       "<Figure size 432x288 with 1 Axes>"
      ]
     },
     "metadata": {
      "needs_background": "light"
     },
     "output_type": "display_data"
    }
   ],
   "source": [
    "sns.countplot(data = train, hue = \"churn\", x = \"over_18_mos\")\n",
    "plt.title(\"Over 18 months and churn\")\n",
    "plt.show()"
   ]
  },
  {
   "cell_type": "code",
   "execution_count": 50,
   "id": "d83c3aed",
   "metadata": {},
   "outputs": [
    {
     "data": {
      "text/html": [
       "<div>\n",
       "<style scoped>\n",
       "    .dataframe tbody tr th:only-of-type {\n",
       "        vertical-align: middle;\n",
       "    }\n",
       "\n",
       "    .dataframe tbody tr th {\n",
       "        vertical-align: top;\n",
       "    }\n",
       "\n",
       "    .dataframe thead th {\n",
       "        text-align: right;\n",
       "    }\n",
       "</style>\n",
       "<table border=\"1\" class=\"dataframe\">\n",
       "  <thead>\n",
       "    <tr style=\"text-align: right;\">\n",
       "      <th>churn</th>\n",
       "      <th>0</th>\n",
       "      <th>1</th>\n",
       "      <th>All</th>\n",
       "    </tr>\n",
       "    <tr>\n",
       "      <th>over_18_mos</th>\n",
       "      <th></th>\n",
       "      <th></th>\n",
       "      <th></th>\n",
       "    </tr>\n",
       "  </thead>\n",
       "  <tbody>\n",
       "    <tr>\n",
       "      <th>0</th>\n",
       "      <td>790</td>\n",
       "      <td>657</td>\n",
       "      <td>1447</td>\n",
       "    </tr>\n",
       "    <tr>\n",
       "      <th>1</th>\n",
       "      <td>2107</td>\n",
       "      <td>389</td>\n",
       "      <td>2496</td>\n",
       "    </tr>\n",
       "    <tr>\n",
       "      <th>All</th>\n",
       "      <td>2897</td>\n",
       "      <td>1046</td>\n",
       "      <td>3943</td>\n",
       "    </tr>\n",
       "  </tbody>\n",
       "</table>\n",
       "</div>"
      ],
      "text/plain": [
       "churn           0     1   All\n",
       "over_18_mos                  \n",
       "0             790   657  1447\n",
       "1            2107   389  2496\n",
       "All          2897  1046  3943"
      ]
     },
     "execution_count": 50,
     "metadata": {},
     "output_type": "execute_result"
    }
   ],
   "source": [
    "observed = pd.crosstab(train.over_18_mos,train.churn,margins = True)\n",
    "observed"
   ]
  },
  {
   "cell_type": "code",
   "execution_count": 51,
   "id": "f6dd4b73",
   "metadata": {},
   "outputs": [
    {
     "name": "stdout",
     "output_type": "stream",
     "text": [
      "Observed\n",
      "\n",
      "[[ 790  657 1447]\n",
      " [2107  389 2496]\n",
      " [2897 1046 3943]]\n",
      "---\n",
      "Expected\n",
      "\n",
      "[[1063.1394877  383.8605123 1447.       ]\n",
      " [1833.8605123  662.1394877 2496.       ]\n",
      " [2897.        1046.        3943.       ]]\n",
      "---\n",
      "\n",
      "chi^2 = 417.8843\n",
      "p     = 0.0000\n"
     ]
    }
   ],
   "source": [
    "chi2, p, degf, expected = stats.chi2_contingency(observed)\n",
    "\n",
    "print('Observed\\n')\n",
    "print(observed.values)\n",
    "print('---\\nExpected\\n')\n",
    "print(expected)\n",
    "print('---\\n')\n",
    "print(f'chi^2 = {chi2:.4f}')\n",
    "print(f'p     = {p:.4f}')"
   ]
  },
  {
   "cell_type": "code",
   "execution_count": 54,
   "id": "9a72ea5c",
   "metadata": {},
   "outputs": [
    {
     "name": "stdout",
     "output_type": "stream",
     "text": [
      "We reject the null hypothesis\n"
     ]
    }
   ],
   "source": [
    "if p < a:\n",
    "    print(\"We reject the null hypothesis\")\n",
    "else:\n",
    "    print(\"We fail to reject the null hypthesis\")"
   ]
  },
  {
   "cell_type": "markdown",
   "id": "fe1ab5fc",
   "metadata": {},
   "source": [
    "Therefore we reject that tenure over 18 months is independent of churn. "
   ]
  },
  {
   "cell_type": "markdown",
   "id": "f3ad5428",
   "metadata": {},
   "source": [
    "> - **Hypothesis 2 -**\n",
    "> - alpha = .05\n",
    "> - $H_0$: Having a 2 year contract is independent of churn  \n",
    "> - $H_a$: Having a 2 year contract is not independent of churn\n",
    "> - Outcome: I rejected the Null Hypothesis; Therefore we reject that having a 2 year contract is independent of churn. "
   ]
  },
  {
   "cell_type": "code",
   "execution_count": 55,
   "id": "fdc7db45",
   "metadata": {},
   "outputs": [
    {
     "data": {
      "image/png": "[encoded data removed]",
      "text/plain": [
       "<Figure size 432x288 with 1 Axes>"
      ]
     },
     "metadata": {
      "needs_background": "light"
     },
     "output_type": "display_data"
    }
   ],
   "source": [
    "sns.countplot(data = train, hue = \"churn\", x = \"contract_type_Two year\")\n",
    "plt.title(\"2yr Contract and churn\")\n",
    "plt.show()"
   ]
  },
  {
   "cell_type": "code",
   "execution_count": 56,
   "id": "37b8df99",
   "metadata": {},
   "outputs": [
    {
     "data": {
      "text/html": [
       "<div>\n",
       "<style scoped>\n",
       "    .dataframe tbody tr th:only-of-type {\n",
       "        vertical-align: middle;\n",
       "    }\n",
       "\n",
       "    .dataframe tbody tr th {\n",
       "        vertical-align: top;\n",
       "    }\n",
       "\n",
       "    .dataframe thead th {\n",
       "        text-align: right;\n",
       "    }\n",
       "</style>\n",
       "<table border=\"1\" class=\"dataframe\">\n",
       "  <thead>\n",
       "    <tr style=\"text-align: right;\">\n",
       "      <th>churn</th>\n",
       "      <th>0</th>\n",
       "      <th>1</th>\n",
       "      <th>All</th>\n",
       "    </tr>\n",
       "    <tr>\n",
       "      <th>contract_type_Two year</th>\n",
       "      <th></th>\n",
       "      <th></th>\n",
       "      <th></th>\n",
       "    </tr>\n",
       "  </thead>\n",
       "  <tbody>\n",
       "    <tr>\n",
       "      <th>0</th>\n",
       "      <td>1957</td>\n",
       "      <td>1012</td>\n",
       "      <td>2969</td>\n",
       "    </tr>\n",
       "    <tr>\n",
       "      <th>1</th>\n",
       "      <td>940</td>\n",
       "      <td>34</td>\n",
       "      <td>974</td>\n",
       "    </tr>\n",
       "    <tr>\n",
       "      <th>All</th>\n",
       "      <td>2897</td>\n",
       "      <td>1046</td>\n",
       "      <td>3943</td>\n",
       "    </tr>\n",
       "  </tbody>\n",
       "</table>\n",
       "</div>"
      ],
      "text/plain": [
       "churn                      0     1   All\n",
       "contract_type_Two year                  \n",
       "0                       1957  1012  2969\n",
       "1                        940    34   974\n",
       "All                     2897  1046  3943"
      ]
     },
     "execution_count": 56,
     "metadata": {},
     "output_type": "execute_result"
    }
   ],
   "source": [
    "observed = pd.crosstab(train[\"contract_type_Two year\"], train.churn, margins = True)\n",
    "observed"
   ]
  },
  {
   "cell_type": "code",
   "execution_count": 57,
   "id": "afae2fee",
   "metadata": {},
   "outputs": [
    {
     "name": "stdout",
     "output_type": "stream",
     "text": [
      "Observed\n",
      "\n",
      "[[1957 1012 2969]\n",
      " [ 940   34  974]\n",
      " [2897 1046 3943]]\n",
      "---\n",
      "Expected\n",
      "\n",
      "[[2181.38295714  787.61704286 2969.        ]\n",
      " [ 715.61704286  258.38295714  974.        ]\n",
      " [2897.         1046.         3943.        ]]\n",
      "---\n",
      "\n",
      "chi^2 = 352.2173\n",
      "p     = 0.0000\n"
     ]
    }
   ],
   "source": [
    "chi2, p, degf, expected = stats.chi2_contingency(observed)\n",
    "\n",
    "print('Observed\\n')\n",
    "print(observed.values)\n",
    "print('---\\nExpected\\n')\n",
    "print(expected)\n",
    "print('---\\n')\n",
    "print(f'chi^2 = {chi2:.4f}')\n",
    "print(f'p     = {p:.4f}')"
   ]
  },
  {
   "cell_type": "code",
   "execution_count": 58,
   "id": "091447f1",
   "metadata": {},
   "outputs": [
    {
     "name": "stdout",
     "output_type": "stream",
     "text": [
      "We reject the null hypothesis\n"
     ]
    }
   ],
   "source": [
    "if p < a:\n",
    "    print(\"We reject the null hypothesis\")\n",
    "else:\n",
    "    print(\"We fail to reject the null hypthesis\")"
   ]
  },
  {
   "cell_type": "markdown",
   "id": "3fc17f66",
   "metadata": {},
   "source": [
    "Therefore we reject that having a 2 year contract is independent of churn. "
   ]
  },
  {
   "cell_type": "markdown",
   "id": "602e9763",
   "metadata": {},
   "source": [
    "> - **Hypothesis 3 -**\n",
    "> - alpha = .05\n",
    "> - $H_0$: Having no internet is independent of churn  \n",
    "> - $H_a$: Having no internet is not independent of churn\n",
    "> - Outcome: I rejected the Null Hypothesis; Therefore we reject that having no internet is independent of churn. "
   ]
  },
  {
   "cell_type": "code",
   "execution_count": 91,
   "id": "467cbfb6",
   "metadata": {},
   "outputs": [
    {
     "data": {
      "image/png": "[encoded data removed]",
      "text/plain": [
       "<Figure size 432x288 with 1 Axes>"
      ]
     },
     "metadata": {
      "needs_background": "light"
     },
     "output_type": "display_data"
    }
   ],
   "source": [
    "sns.countplot(data = train, hue = \"churn\", x = \"internet_service_type_None\")\n",
    "plt.title(\"Has No Internet and churn\")\n",
    "plt.show()"
   ]
  },
  {
   "cell_type": "code",
   "execution_count": 61,
   "id": "dbcdbe2d",
   "metadata": {},
   "outputs": [
    {
     "data": {
      "text/html": [
       "<div>\n",
       "<style scoped>\n",
       "    .dataframe tbody tr th:only-of-type {\n",
       "        vertical-align: middle;\n",
       "    }\n",
       "\n",
       "    .dataframe tbody tr th {\n",
       "        vertical-align: top;\n",
       "    }\n",
       "\n",
       "    .dataframe thead th {\n",
       "        text-align: right;\n",
       "    }\n",
       "</style>\n",
       "<table border=\"1\" class=\"dataframe\">\n",
       "  <thead>\n",
       "    <tr style=\"text-align: right;\">\n",
       "      <th>churn</th>\n",
       "      <th>0</th>\n",
       "      <th>1</th>\n",
       "      <th>All</th>\n",
       "    </tr>\n",
       "    <tr>\n",
       "      <th>internet_service_type_None</th>\n",
       "      <th></th>\n",
       "      <th></th>\n",
       "      <th></th>\n",
       "    </tr>\n",
       "  </thead>\n",
       "  <tbody>\n",
       "    <tr>\n",
       "      <th>0</th>\n",
       "      <td>2122</td>\n",
       "      <td>983</td>\n",
       "      <td>3105</td>\n",
       "    </tr>\n",
       "    <tr>\n",
       "      <th>1</th>\n",
       "      <td>775</td>\n",
       "      <td>63</td>\n",
       "      <td>838</td>\n",
       "    </tr>\n",
       "    <tr>\n",
       "      <th>All</th>\n",
       "      <td>2897</td>\n",
       "      <td>1046</td>\n",
       "      <td>3943</td>\n",
       "    </tr>\n",
       "  </tbody>\n",
       "</table>\n",
       "</div>"
      ],
      "text/plain": [
       "churn                          0     1   All\n",
       "internet_service_type_None                  \n",
       "0                           2122   983  3105\n",
       "1                            775    63   838\n",
       "All                         2897  1046  3943"
      ]
     },
     "execution_count": 61,
     "metadata": {},
     "output_type": "execute_result"
    }
   ],
   "source": [
    "observed = pd.crosstab(train[\"internet_service_type_None\"], train.churn, margins = True)\n",
    "observed"
   ]
  },
  {
   "cell_type": "code",
   "execution_count": 62,
   "id": "b0de8fc6",
   "metadata": {},
   "outputs": [
    {
     "name": "stdout",
     "output_type": "stream",
     "text": [
      "Observed\n",
      "\n",
      "[[2122  983 3105]\n",
      " [ 775   63  838]\n",
      " [2897 1046 3943]]\n",
      "---\n",
      "Expected\n",
      "\n",
      "[[2281.30484403  823.69515597 3105.        ]\n",
      " [ 615.69515597  222.30484403  838.        ]\n",
      " [2897.         1046.         3943.        ]]\n",
      "---\n",
      "\n",
      "chi^2 = 197.3115\n",
      "p     = 0.0000\n"
     ]
    }
   ],
   "source": [
    "chi2, p, degf, expected = stats.chi2_contingency(observed)\n",
    "\n",
    "print('Observed\\n')\n",
    "print(observed.values)\n",
    "print('---\\nExpected\\n')\n",
    "print(expected)\n",
    "print('---\\n')\n",
    "print(f'chi^2 = {chi2:.4f}')\n",
    "print(f'p     = {p:.4f}')"
   ]
  },
  {
   "cell_type": "code",
   "execution_count": 63,
   "id": "31bac6e3",
   "metadata": {},
   "outputs": [
    {
     "name": "stdout",
     "output_type": "stream",
     "text": [
      "We reject the null hypothesis\n"
     ]
    }
   ],
   "source": [
    "if p < a:\n",
    "    print(\"We reject the null hypothesis\")\n",
    "else:\n",
    "    print(\"We fail to reject the null hypthesis\")"
   ]
  },
  {
   "cell_type": "markdown",
   "id": "2d147510",
   "metadata": {},
   "source": [
    "Therefore we reject that having no internet is independent of churn. "
   ]
  },
  {
   "cell_type": "markdown",
   "id": "a9674e46",
   "metadata": {},
   "source": [
    "# Takeaways\n",
    "- Before the 18 month mark for tenure, there's almost a 50/50 chance a customer will churn. That declines significantly after the 18 month mark. \n",
    "- Customers who agree to a 2 yr contract are significantly less likely to churn and evidence suggests they might renew.\n",
    "- I'm curious to see if signing up for DSL vs Fiber has more or less of an effect compared to having internet or not. "
   ]
  },
  {
   "cell_type": "markdown",
   "id": "7080ed9f",
   "metadata": {},
   "source": [
    "# Models"
   ]
  },
  {
   "cell_type": "markdown",
   "id": "911fcfe2",
   "metadata": {},
   "source": [
    "# Decision Tree"
   ]
  },
  {
   "cell_type": "code",
   "execution_count": 64,
   "id": "e43b5fe7",
   "metadata": {},
   "outputs": [],
   "source": [
    "X_train = train.drop(columns=['churn'])\n",
    "y_train = train.churn\n",
    "\n",
    "X_validate = validate.drop(columns=['churn'])\n",
    "y_validate = validate.churn\n",
    "\n",
    "X_test = test.drop(columns=['churn'])\n",
    "y_test = test.churn"
   ]
  },
  {
   "cell_type": "code",
   "execution_count": 65,
   "id": "6e381303",
   "metadata": {},
   "outputs": [
    {
     "name": "stdout",
     "output_type": "stream",
     "text": [
      "Baseline accuracy: 0.73\n"
     ]
    }
   ],
   "source": [
    "# The mode is a great baseline\n",
    "baseline = y_train.mode()\n",
    "\n",
    "# Produce a boolean array with True representing a match between the baseline prediction and reality\n",
    "matches_baseline_prediction = y_train == 0\n",
    "\n",
    "baseline_accuracy = matches_baseline_prediction.mean()\n",
    "print(f\"Baseline accuracy: {round(baseline_accuracy, 2)}\")"
   ]
  },
  {
   "cell_type": "code",
   "execution_count": 66,
   "id": "2f8994bf",
   "metadata": {},
   "outputs": [],
   "source": [
    "clf = DecisionTreeClassifier(max_depth=3, random_state=123)\n",
    "clf = clf.fit(X_train, y_train)"
   ]
  },
  {
   "cell_type": "code",
   "execution_count": 67,
   "id": "a993c545",
   "metadata": {},
   "outputs": [],
   "source": [
    "y_predictions = clf.predict(X_train)"
   ]
  },
  {
   "cell_type": "code",
   "execution_count": 68,
   "id": "33e43ed1",
   "metadata": {},
   "outputs": [
    {
     "data": {
      "text/plain": [
       "'telco_decision_tree.pdf'"
      ]
     },
     "execution_count": 68,
     "metadata": {},
     "output_type": "execute_result"
    }
   ],
   "source": [
    "import graphviz\n",
    "from graphviz import Graph\n",
    "\n",
    "dot_data = export_graphviz(clf, feature_names= X_train.columns, rounded=True, filled=True, out_file=None)\n",
    "graph = graphviz.Source(dot_data) \n",
    "\n",
    "graph.render('telco_decision_tree', view=True)\n",
    "\n"
   ]
  },
  {
   "cell_type": "code",
   "execution_count": 69,
   "id": "70513ddc",
   "metadata": {},
   "outputs": [
    {
     "data": {
      "text/html": [
       "<div>\n",
       "<style scoped>\n",
       "    .dataframe tbody tr th:only-of-type {\n",
       "        vertical-align: middle;\n",
       "    }\n",
       "\n",
       "    .dataframe tbody tr th {\n",
       "        vertical-align: top;\n",
       "    }\n",
       "\n",
       "    .dataframe thead th {\n",
       "        text-align: right;\n",
       "    }\n",
       "</style>\n",
       "<table border=\"1\" class=\"dataframe\">\n",
       "  <thead>\n",
       "    <tr style=\"text-align: right;\">\n",
       "      <th></th>\n",
       "      <th>max_depth</th>\n",
       "      <th>train_accuracy</th>\n",
       "      <th>validate_accuracy</th>\n",
       "      <th>difference</th>\n",
       "    </tr>\n",
       "  </thead>\n",
       "  <tbody>\n",
       "    <tr>\n",
       "      <th>0</th>\n",
       "      <td>2</td>\n",
       "      <td>0.760588</td>\n",
       "      <td>0.769367</td>\n",
       "      <td>-0.008779</td>\n",
       "    </tr>\n",
       "    <tr>\n",
       "      <th>1</th>\n",
       "      <td>3</td>\n",
       "      <td>0.792037</td>\n",
       "      <td>0.793613</td>\n",
       "      <td>-0.001577</td>\n",
       "    </tr>\n",
       "    <tr>\n",
       "      <th>2</th>\n",
       "      <td>4</td>\n",
       "      <td>0.795334</td>\n",
       "      <td>0.778829</td>\n",
       "      <td>0.016504</td>\n",
       "    </tr>\n",
       "    <tr>\n",
       "      <th>3</th>\n",
       "      <td>5</td>\n",
       "      <td>0.797109</td>\n",
       "      <td>0.781195</td>\n",
       "      <td>0.015914</td>\n",
       "    </tr>\n",
       "    <tr>\n",
       "      <th>4</th>\n",
       "      <td>6</td>\n",
       "      <td>0.812326</td>\n",
       "      <td>0.780012</td>\n",
       "      <td>0.032314</td>\n",
       "    </tr>\n",
       "    <tr>\n",
       "      <th>5</th>\n",
       "      <td>7</td>\n",
       "      <td>0.825514</td>\n",
       "      <td>0.782969</td>\n",
       "      <td>0.042545</td>\n",
       "    </tr>\n",
       "    <tr>\n",
       "      <th>6</th>\n",
       "      <td>8</td>\n",
       "      <td>0.841238</td>\n",
       "      <td>0.779420</td>\n",
       "      <td>0.061817</td>\n",
       "    </tr>\n",
       "    <tr>\n",
       "      <th>7</th>\n",
       "      <td>9</td>\n",
       "      <td>0.860766</td>\n",
       "      <td>0.761088</td>\n",
       "      <td>0.099678</td>\n",
       "    </tr>\n",
       "    <tr>\n",
       "      <th>8</th>\n",
       "      <td>10</td>\n",
       "      <td>0.882577</td>\n",
       "      <td>0.749261</td>\n",
       "      <td>0.133316</td>\n",
       "    </tr>\n",
       "    <tr>\n",
       "      <th>9</th>\n",
       "      <td>11</td>\n",
       "      <td>0.904388</td>\n",
       "      <td>0.749852</td>\n",
       "      <td>0.154535</td>\n",
       "    </tr>\n",
       "    <tr>\n",
       "      <th>10</th>\n",
       "      <td>12</td>\n",
       "      <td>0.929495</td>\n",
       "      <td>0.730337</td>\n",
       "      <td>0.199158</td>\n",
       "    </tr>\n",
       "    <tr>\n",
       "      <th>11</th>\n",
       "      <td>13</td>\n",
       "      <td>0.949531</td>\n",
       "      <td>0.726198</td>\n",
       "      <td>0.223333</td>\n",
       "    </tr>\n",
       "    <tr>\n",
       "      <th>12</th>\n",
       "      <td>14</td>\n",
       "      <td>0.968552</td>\n",
       "      <td>0.717327</td>\n",
       "      <td>0.251225</td>\n",
       "    </tr>\n",
       "    <tr>\n",
       "      <th>13</th>\n",
       "      <td>15</td>\n",
       "      <td>0.978189</td>\n",
       "      <td>0.718510</td>\n",
       "      <td>0.259679</td>\n",
       "    </tr>\n",
       "    <tr>\n",
       "      <th>14</th>\n",
       "      <td>16</td>\n",
       "      <td>0.986305</td>\n",
       "      <td>0.720284</td>\n",
       "      <td>0.266021</td>\n",
       "    </tr>\n",
       "    <tr>\n",
       "      <th>15</th>\n",
       "      <td>17</td>\n",
       "      <td>0.990616</td>\n",
       "      <td>0.726198</td>\n",
       "      <td>0.264419</td>\n",
       "    </tr>\n",
       "    <tr>\n",
       "      <th>16</th>\n",
       "      <td>18</td>\n",
       "      <td>0.993406</td>\n",
       "      <td>0.715553</td>\n",
       "      <td>0.277853</td>\n",
       "    </tr>\n",
       "  </tbody>\n",
       "</table>\n",
       "</div>"
      ],
      "text/plain": [
       "    max_depth  train_accuracy  validate_accuracy  difference\n",
       "0           2        0.760588           0.769367   -0.008779\n",
       "1           3        0.792037           0.793613   -0.001577\n",
       "2           4        0.795334           0.778829    0.016504\n",
       "3           5        0.797109           0.781195    0.015914\n",
       "4           6        0.812326           0.780012    0.032314\n",
       "5           7        0.825514           0.782969    0.042545\n",
       "6           8        0.841238           0.779420    0.061817\n",
       "7           9        0.860766           0.761088    0.099678\n",
       "8          10        0.882577           0.749261    0.133316\n",
       "9          11        0.904388           0.749852    0.154535\n",
       "10         12        0.929495           0.730337    0.199158\n",
       "11         13        0.949531           0.726198    0.223333\n",
       "12         14        0.968552           0.717327    0.251225\n",
       "13         15        0.978189           0.718510    0.259679\n",
       "14         16        0.986305           0.720284    0.266021\n",
       "15         17        0.990616           0.726198    0.264419\n",
       "16         18        0.993406           0.715553    0.277853"
      ]
     },
     "execution_count": 69,
     "metadata": {},
     "output_type": "execute_result"
    }
   ],
   "source": [
    "\n",
    "# Let's continue getting loopy, so we can compare in-sample to out-of-sample\n",
    "metrics = []\n",
    "\n",
    "for i in range(2, 19):\n",
    "    # Make the model\n",
    "    tree = DecisionTreeClassifier(max_depth=i, random_state=123)\n",
    "\n",
    "    # Fit the model (on train and only train)\n",
    "    tree = tree.fit(X_train, y_train)\n",
    "\n",
    "    # Use the model\n",
    "    # We'll evaluate the model's performance on train, first\n",
    "    in_sample_accuracy = tree.score(X_train, y_train)\n",
    "    \n",
    "    out_of_sample_accuracy = tree.score(X_validate, y_validate)\n",
    "\n",
    "    output = {\n",
    "        \"max_depth\": i,\n",
    "        \"train_accuracy\": in_sample_accuracy,\n",
    "        \"validate_accuracy\": out_of_sample_accuracy\n",
    "    }\n",
    "    \n",
    "    metrics.append(output)\n",
    "    \n",
    "metric_table = pd.DataFrame(metrics)\n",
    "metric_table[\"difference\"] = metric_table.train_accuracy - metric_table.validate_accuracy\n",
    "metric_table"
   ]
  },
  {
   "cell_type": "code",
   "execution_count": 70,
   "id": "b5bc6004",
   "metadata": {},
   "outputs": [],
   "source": [
    "# max depth of 3 appears to be the best with 0.792 train and 0.794 validate accuracy"
   ]
  },
  {
   "cell_type": "markdown",
   "id": "aa701832",
   "metadata": {},
   "source": [
    "# Random Forest"
   ]
  },
  {
   "cell_type": "code",
   "execution_count": 71,
   "id": "0ef04432",
   "metadata": {},
   "outputs": [
    {
     "name": "stdout",
     "output_type": "stream",
     "text": [
      "Baseline accuracy: 0.73\n"
     ]
    }
   ],
   "source": [
    "baseline_accuracy = matches_baseline_prediction.mean()\n",
    "print(f\"Baseline accuracy: {round(baseline_accuracy, 2)}\")"
   ]
  },
  {
   "cell_type": "code",
   "execution_count": 72,
   "id": "ebe247d4",
   "metadata": {},
   "outputs": [
    {
     "data": {
      "text/html": [
       "<div>\n",
       "<style scoped>\n",
       "    .dataframe tbody tr th:only-of-type {\n",
       "        vertical-align: middle;\n",
       "    }\n",
       "\n",
       "    .dataframe tbody tr th {\n",
       "        vertical-align: top;\n",
       "    }\n",
       "\n",
       "    .dataframe thead th {\n",
       "        text-align: right;\n",
       "    }\n",
       "</style>\n",
       "<table border=\"1\" class=\"dataframe\">\n",
       "  <thead>\n",
       "    <tr style=\"text-align: right;\">\n",
       "      <th></th>\n",
       "      <th>max_depth</th>\n",
       "      <th>train_accuracy</th>\n",
       "      <th>validate_accuracy</th>\n",
       "      <th>difference</th>\n",
       "    </tr>\n",
       "  </thead>\n",
       "  <tbody>\n",
       "    <tr>\n",
       "      <th>0</th>\n",
       "      <td>2</td>\n",
       "      <td>0.781892</td>\n",
       "      <td>0.784151</td>\n",
       "      <td>-0.002259</td>\n",
       "    </tr>\n",
       "    <tr>\n",
       "      <th>1</th>\n",
       "      <td>3</td>\n",
       "      <td>0.793051</td>\n",
       "      <td>0.794205</td>\n",
       "      <td>-0.001154</td>\n",
       "    </tr>\n",
       "    <tr>\n",
       "      <th>2</th>\n",
       "      <td>4</td>\n",
       "      <td>0.794826</td>\n",
       "      <td>0.797753</td>\n",
       "      <td>-0.002927</td>\n",
       "    </tr>\n",
       "    <tr>\n",
       "      <th>3</th>\n",
       "      <td>5</td>\n",
       "      <td>0.800406</td>\n",
       "      <td>0.801301</td>\n",
       "      <td>-0.000895</td>\n",
       "    </tr>\n",
       "    <tr>\n",
       "      <th>4</th>\n",
       "      <td>6</td>\n",
       "      <td>0.811565</td>\n",
       "      <td>0.798344</td>\n",
       "      <td>0.013221</td>\n",
       "    </tr>\n",
       "    <tr>\n",
       "      <th>5</th>\n",
       "      <td>7</td>\n",
       "      <td>0.820949</td>\n",
       "      <td>0.798344</td>\n",
       "      <td>0.022604</td>\n",
       "    </tr>\n",
       "    <tr>\n",
       "      <th>6</th>\n",
       "      <td>8</td>\n",
       "      <td>0.838701</td>\n",
       "      <td>0.800710</td>\n",
       "      <td>0.037992</td>\n",
       "    </tr>\n",
       "    <tr>\n",
       "      <th>7</th>\n",
       "      <td>9</td>\n",
       "      <td>0.861780</td>\n",
       "      <td>0.792431</td>\n",
       "      <td>0.069350</td>\n",
       "    </tr>\n",
       "    <tr>\n",
       "      <th>8</th>\n",
       "      <td>10</td>\n",
       "      <td>0.888410</td>\n",
       "      <td>0.794205</td>\n",
       "      <td>0.094205</td>\n",
       "    </tr>\n",
       "    <tr>\n",
       "      <th>9</th>\n",
       "      <td>11</td>\n",
       "      <td>0.923916</td>\n",
       "      <td>0.793022</td>\n",
       "      <td>0.130894</td>\n",
       "    </tr>\n",
       "    <tr>\n",
       "      <th>10</th>\n",
       "      <td>12</td>\n",
       "      <td>0.954857</td>\n",
       "      <td>0.787108</td>\n",
       "      <td>0.167748</td>\n",
       "    </tr>\n",
       "    <tr>\n",
       "      <th>11</th>\n",
       "      <td>13</td>\n",
       "      <td>0.977175</td>\n",
       "      <td>0.771733</td>\n",
       "      <td>0.205442</td>\n",
       "    </tr>\n",
       "    <tr>\n",
       "      <th>12</th>\n",
       "      <td>14</td>\n",
       "      <td>0.989602</td>\n",
       "      <td>0.785334</td>\n",
       "      <td>0.204268</td>\n",
       "    </tr>\n",
       "    <tr>\n",
       "      <th>13</th>\n",
       "      <td>15</td>\n",
       "      <td>0.994674</td>\n",
       "      <td>0.775281</td>\n",
       "      <td>0.219393</td>\n",
       "    </tr>\n",
       "    <tr>\n",
       "      <th>14</th>\n",
       "      <td>16</td>\n",
       "      <td>0.996703</td>\n",
       "      <td>0.778238</td>\n",
       "      <td>0.218465</td>\n",
       "    </tr>\n",
       "    <tr>\n",
       "      <th>15</th>\n",
       "      <td>17</td>\n",
       "      <td>0.996957</td>\n",
       "      <td>0.778238</td>\n",
       "      <td>0.218719</td>\n",
       "    </tr>\n",
       "    <tr>\n",
       "      <th>16</th>\n",
       "      <td>18</td>\n",
       "      <td>0.997717</td>\n",
       "      <td>0.780012</td>\n",
       "      <td>0.217706</td>\n",
       "    </tr>\n",
       "  </tbody>\n",
       "</table>\n",
       "</div>"
      ],
      "text/plain": [
       "    max_depth  train_accuracy  validate_accuracy  difference\n",
       "0           2        0.781892           0.784151   -0.002259\n",
       "1           3        0.793051           0.794205   -0.001154\n",
       "2           4        0.794826           0.797753   -0.002927\n",
       "3           5        0.800406           0.801301   -0.000895\n",
       "4           6        0.811565           0.798344    0.013221\n",
       "5           7        0.820949           0.798344    0.022604\n",
       "6           8        0.838701           0.800710    0.037992\n",
       "7           9        0.861780           0.792431    0.069350\n",
       "8          10        0.888410           0.794205    0.094205\n",
       "9          11        0.923916           0.793022    0.130894\n",
       "10         12        0.954857           0.787108    0.167748\n",
       "11         13        0.977175           0.771733    0.205442\n",
       "12         14        0.989602           0.785334    0.204268\n",
       "13         15        0.994674           0.775281    0.219393\n",
       "14         16        0.996703           0.778238    0.218465\n",
       "15         17        0.996957           0.778238    0.218719\n",
       "16         18        0.997717           0.780012    0.217706"
      ]
     },
     "execution_count": 72,
     "metadata": {},
     "output_type": "execute_result"
    }
   ],
   "source": [
    "# Let's continue getting loopy, so we can compare in-sample to out-of-sample\n",
    "metrics = []\n",
    "\n",
    "for i in range(2, 19):\n",
    "    # Make the model\n",
    "    forest = RandomForestClassifier(max_depth=i, random_state=123)\n",
    "\n",
    "    # Fit the model (on train and only train)\n",
    "    forest = forest.fit(X_train, y_train)\n",
    "\n",
    "    # Use the model\n",
    "    # We'll evaluate the model's performance on train, first\n",
    "    in_sample_accuracy = forest.score(X_train, y_train)\n",
    "    \n",
    "    out_of_sample_accuracy = forest.score(X_validate, y_validate)\n",
    "\n",
    "    output = {\n",
    "        \"max_depth\": i,\n",
    "        \"train_accuracy\": in_sample_accuracy,\n",
    "        \"validate_accuracy\": out_of_sample_accuracy\n",
    "    }\n",
    "    \n",
    "    metrics.append(output)\n",
    "    \n",
    "metric_table = pd.DataFrame(metrics)\n",
    "metric_table[\"difference\"] = metric_table.train_accuracy - metric_table.validate_accuracy\n",
    "metric_table"
   ]
  },
  {
   "cell_type": "code",
   "execution_count": 73,
   "id": "d547c09f",
   "metadata": {},
   "outputs": [],
   "source": [
    "# max depth of 5 appears to be the best with 80 train and 80.1 validate accuracy"
   ]
  },
  {
   "cell_type": "markdown",
   "id": "6c7f9b88",
   "metadata": {},
   "source": [
    "# Logistic Regression"
   ]
  },
  {
   "cell_type": "code",
   "execution_count": 74,
   "id": "512f211f",
   "metadata": {},
   "outputs": [
    {
     "name": "stdout",
     "output_type": "stream",
     "text": [
      "Baseline accuracy: 0.735\n"
     ]
    }
   ],
   "source": [
    "baseline_accuracy = matches_baseline_prediction.mean()\n",
    "print(f\"Baseline accuracy: {round(baseline_accuracy, 3)}\")"
   ]
  },
  {
   "cell_type": "code",
   "execution_count": 75,
   "id": "2d190621",
   "metadata": {},
   "outputs": [
    {
     "name": "stdout",
     "output_type": "stream",
     "text": [
      "Model trained on all features\n",
      "Accuracy of Logistic Regression classifier on training set: 0.799\n"
     ]
    }
   ],
   "source": [
    "# All features, all default hyperparameters\n",
    "logit = LogisticRegression(random_state=123)\n",
    "\n",
    "logit.fit(X_train, y_train)\n",
    "\n",
    "y_pred = logit.predict(X_train)\n",
    "\n",
    "print(\"Model trained on all features\")\n",
    "print('Accuracy of Logistic Regression classifier on training set: {:.3f}'\n",
    "     .format(logit.score(X_train, y_train)))"
   ]
  },
  {
   "cell_type": "code",
   "execution_count": null,
   "id": "0af59240",
   "metadata": {},
   "outputs": [],
   "source": [
    "# At this point wanted to play with different features. These were selected based on the first 3 levels of a decision tree made prior. "
   ]
  },
  {
   "cell_type": "code",
   "execution_count": 76,
   "id": "88fb1400",
   "metadata": {},
   "outputs": [
    {
     "name": "stdout",
     "output_type": "stream",
     "text": [
      "Model trained on month_to_month, Fiber_optic, and One_year_contract\n",
      "Accuracy of Logistic Regression classifier on training set: 0.76\n"
     ]
    }
   ],
   "source": [
    "features = ['contract_type_Month-to-month', 'internet_service_type_Fiber optic', 'contract_type_One year']\n",
    "\n",
    "logit1 = LogisticRegression(random_state=123)\n",
    "\n",
    "logit1.fit(X_train[features], y_train)\n",
    "\n",
    "y_pred = logit1.predict(X_train[features])\n",
    "\n",
    "accuracy = logit1.score(X_train[features], y_train)\n",
    "\n",
    "print(\"Model trained on month_to_month, Fiber_optic, and One_year_contract\")\n",
    "print(f'Accuracy of Logistic Regression classifier on training set: {accuracy:.2}')"
   ]
  },
  {
   "cell_type": "code",
   "execution_count": 77,
   "id": "7f006ff6",
   "metadata": {},
   "outputs": [
    {
     "name": "stdout",
     "output_type": "stream",
     "text": [
      "Model trained on Two_year_contract\n",
      "Accuracy of Logistic Regression classifier on training set: 0.73\n"
     ]
    }
   ],
   "source": [
    "features = ['contract_type_Two year']\n",
    "\n",
    "logit2 = LogisticRegression(random_state=123)\n",
    "\n",
    "logit2.fit(X_train[features], y_train)\n",
    "\n",
    "y_pred = logit2.predict(X_train[features])\n",
    "\n",
    "accuracy = logit2.score(X_train[features], y_train)\n",
    "\n",
    "print(\"Model trained on Two_year_contract\")\n",
    "print(f'Accuracy of Logistic Regression classifier on training set: {accuracy:.2}')"
   ]
  },
  {
   "cell_type": "code",
   "execution_count": 78,
   "id": "befe3251",
   "metadata": {},
   "outputs": [],
   "source": [
    "# Decided to try my golden features"
   ]
  },
  {
   "cell_type": "code",
   "execution_count": 80,
   "id": "54328e2c",
   "metadata": {},
   "outputs": [
    {
     "name": "stdout",
     "output_type": "stream",
     "text": [
      "Model trained on Two_year_contract, over_18_mos, and internet_service_type_None\n",
      "Accuracy of Logistic Regression classifier on training set: 0.76\n"
     ]
    }
   ],
   "source": [
    "features = ['contract_type_Two year', 'over_18_mos', 'internet_service_type_None']\n",
    "\n",
    "logit3 = LogisticRegression(random_state=123)\n",
    "\n",
    "logit3.fit(X_train[features], y_train)\n",
    "\n",
    "y_pred = logit3.predict(X_train[features])\n",
    "\n",
    "accuracy = logit3.score(X_train[features], y_train)\n",
    "\n",
    "print(\"Model trained on Two_year_contract, over_18_mos, and internet_service_type_None\")\n",
    "print(f'Accuracy of Logistic Regression classifier on training set: {accuracy:.2}')"
   ]
  },
  {
   "cell_type": "markdown",
   "id": "329edd25",
   "metadata": {},
   "source": [
    "# Validate"
   ]
  },
  {
   "cell_type": "code",
   "execution_count": 81,
   "id": "41ce479e",
   "metadata": {},
   "outputs": [
    {
     "name": "stdout",
     "output_type": "stream",
     "text": [
      "Model trained on all features\n",
      "Accuracy of Logistic Regression classifier on training set: 0.805\n"
     ]
    }
   ],
   "source": [
    "# Logistic Regression\n",
    "# All features, all default hyperparameters\n",
    "logit = LogisticRegression(random_state=123)\n",
    "\n",
    "logit.fit(X_validate, y_validate)\n",
    "\n",
    "y_pred = logit.predict(X_validate)\n",
    "\n",
    "print(\"Model trained on all features\")\n",
    "print('Accuracy of Logistic Regression classifier on validate set: {:.3f}'\n",
    "     .format(logit.score(X_validate, y_validate)))"
   ]
  },
  {
   "cell_type": "code",
   "execution_count": 83,
   "id": "367dfda4",
   "metadata": {},
   "outputs": [
    {
     "name": "stdout",
     "output_type": "stream",
     "text": [
      "Random Forest with max 5 depth\n"
     ]
    },
    {
     "data": {
      "text/html": [
       "<div>\n",
       "<style scoped>\n",
       "    .dataframe tbody tr th:only-of-type {\n",
       "        vertical-align: middle;\n",
       "    }\n",
       "\n",
       "    .dataframe tbody tr th {\n",
       "        vertical-align: top;\n",
       "    }\n",
       "\n",
       "    .dataframe thead th {\n",
       "        text-align: right;\n",
       "    }\n",
       "</style>\n",
       "<table border=\"1\" class=\"dataframe\">\n",
       "  <thead>\n",
       "    <tr style=\"text-align: right;\">\n",
       "      <th></th>\n",
       "      <th>0</th>\n",
       "      <th>1</th>\n",
       "      <th>accuracy</th>\n",
       "      <th>macro avg</th>\n",
       "      <th>weighted avg</th>\n",
       "    </tr>\n",
       "  </thead>\n",
       "  <tbody>\n",
       "    <tr>\n",
       "      <th>precision</th>\n",
       "      <td>0.827266</td>\n",
       "      <td>0.713793</td>\n",
       "      <td>0.807806</td>\n",
       "      <td>0.770530</td>\n",
       "      <td>0.797136</td>\n",
       "    </tr>\n",
       "    <tr>\n",
       "      <th>recall</th>\n",
       "      <td>0.933172</td>\n",
       "      <td>0.461024</td>\n",
       "      <td>0.807806</td>\n",
       "      <td>0.697098</td>\n",
       "      <td>0.807806</td>\n",
       "    </tr>\n",
       "    <tr>\n",
       "      <th>f1-score</th>\n",
       "      <td>0.877034</td>\n",
       "      <td>0.560217</td>\n",
       "      <td>0.807806</td>\n",
       "      <td>0.718625</td>\n",
       "      <td>0.792911</td>\n",
       "    </tr>\n",
       "    <tr>\n",
       "      <th>support</th>\n",
       "      <td>1242.000000</td>\n",
       "      <td>449.000000</td>\n",
       "      <td>0.807806</td>\n",
       "      <td>1691.000000</td>\n",
       "      <td>1691.000000</td>\n",
       "    </tr>\n",
       "  </tbody>\n",
       "</table>\n",
       "</div>"
      ],
      "text/plain": [
       "                     0           1  accuracy    macro avg  weighted avg\n",
       "precision     0.827266    0.713793  0.807806     0.770530      0.797136\n",
       "recall        0.933172    0.461024  0.807806     0.697098      0.807806\n",
       "f1-score      0.877034    0.560217  0.807806     0.718625      0.792911\n",
       "support    1242.000000  449.000000  0.807806  1691.000000   1691.000000"
      ]
     },
     "execution_count": 83,
     "metadata": {},
     "output_type": "execute_result"
    }
   ],
   "source": [
    "# Random Forest with a max depth of 5\n",
    "# Make the model\n",
    "forest1 = RandomForestClassifier(max_depth=5, random_state=123)\n",
    "\n",
    "# Fit the model\n",
    "forest1 = forest1.fit(X_validate, y_validate)\n",
    "\n",
    "# Use the model\n",
    "# We'll evaluate the model's performance on test\n",
    "y_predictions = forest1.predict(X_validate)\n",
    "y_pred_proba = forest1.predict_proba(X_validate)\n",
    "\n",
    "# Produce the classification report on the actual y values and this model's predicted y values\n",
    "report = classification_report(y_validate, y_predictions, output_dict=True)\n",
    "print(\"Random Forest with max 5 depth\")\n",
    "pd.DataFrame(report)"
   ]
  },
  {
   "cell_type": "code",
   "execution_count": 85,
   "id": "00209fd8",
   "metadata": {},
   "outputs": [
    {
     "data": {
      "text/plain": [
       "0.7989355410999409"
      ]
     },
     "execution_count": 85,
     "metadata": {},
     "output_type": "execute_result"
    }
   ],
   "source": [
    "# Decision tree with a max depth of 3\n",
    "tree = DecisionTreeClassifier(max_depth=3, random_state=123)\n",
    "\n",
    "    \n",
    "tree = tree.fit(X_validate, y_validate)\n",
    "accuracy = tree.score(X_validate, y_validate)\n",
    "accuracy"
   ]
  },
  {
   "cell_type": "code",
   "execution_count": 86,
   "id": "e17b06e4",
   "metadata": {},
   "outputs": [],
   "source": [
    "# Random Forest with a max of 5 had best accuracy"
   ]
  },
  {
   "cell_type": "markdown",
   "id": "e878e1bf",
   "metadata": {},
   "source": [
    "# Test"
   ]
  },
  {
   "cell_type": "code",
   "execution_count": 87,
   "id": "c845dfc2",
   "metadata": {},
   "outputs": [
    {
     "name": "stdout",
     "output_type": "stream",
     "text": [
      "Random Forest with max 5 depth\n"
     ]
    },
    {
     "data": {
      "text/html": [
       "<div>\n",
       "<style scoped>\n",
       "    .dataframe tbody tr th:only-of-type {\n",
       "        vertical-align: middle;\n",
       "    }\n",
       "\n",
       "    .dataframe tbody tr th {\n",
       "        vertical-align: top;\n",
       "    }\n",
       "\n",
       "    .dataframe thead th {\n",
       "        text-align: right;\n",
       "    }\n",
       "</style>\n",
       "<table border=\"1\" class=\"dataframe\">\n",
       "  <thead>\n",
       "    <tr style=\"text-align: right;\">\n",
       "      <th></th>\n",
       "      <th>0</th>\n",
       "      <th>1</th>\n",
       "      <th>accuracy</th>\n",
       "      <th>macro avg</th>\n",
       "      <th>weighted avg</th>\n",
       "    </tr>\n",
       "  </thead>\n",
       "  <tbody>\n",
       "    <tr>\n",
       "      <th>precision</th>\n",
       "      <td>0.850358</td>\n",
       "      <td>0.706485</td>\n",
       "      <td>0.82044</td>\n",
       "      <td>0.778422</td>\n",
       "      <td>0.812169</td>\n",
       "    </tr>\n",
       "    <tr>\n",
       "      <th>recall</th>\n",
       "      <td>0.916908</td>\n",
       "      <td>0.553476</td>\n",
       "      <td>0.82044</td>\n",
       "      <td>0.735192</td>\n",
       "      <td>0.820440</td>\n",
       "    </tr>\n",
       "    <tr>\n",
       "      <th>f1-score</th>\n",
       "      <td>0.882380</td>\n",
       "      <td>0.620690</td>\n",
       "      <td>0.82044</td>\n",
       "      <td>0.751535</td>\n",
       "      <td>0.812918</td>\n",
       "    </tr>\n",
       "    <tr>\n",
       "      <th>support</th>\n",
       "      <td>1035.000000</td>\n",
       "      <td>374.000000</td>\n",
       "      <td>0.82044</td>\n",
       "      <td>1409.000000</td>\n",
       "      <td>1409.000000</td>\n",
       "    </tr>\n",
       "  </tbody>\n",
       "</table>\n",
       "</div>"
      ],
      "text/plain": [
       "                     0           1  accuracy    macro avg  weighted avg\n",
       "precision     0.850358    0.706485   0.82044     0.778422      0.812169\n",
       "recall        0.916908    0.553476   0.82044     0.735192      0.820440\n",
       "f1-score      0.882380    0.620690   0.82044     0.751535      0.812918\n",
       "support    1035.000000  374.000000   0.82044  1409.000000   1409.000000"
      ]
     },
     "execution_count": 87,
     "metadata": {},
     "output_type": "execute_result"
    }
   ],
   "source": [
    "\n",
    "# Make the model\n",
    "forest1 = RandomForestClassifier(max_depth=5, random_state=123)\n",
    "\n",
    "# Fit the model\n",
    "forest1 = forest1.fit(X_test, y_test)\n",
    "\n",
    "# Use the model\n",
    "# We'll evaluate the model's performance on test\n",
    "y_predictions = forest1.predict(X_test)\n",
    "y_pred_proba = forest1.predict_proba(X_test)\n",
    "\n",
    "# Produce the classification report on the actual y values and this model's predicted y values\n",
    "report = classification_report(y_test, y_predictions, output_dict=True)\n",
    "print(\"Random Forest with max 5 depth\")\n",
    "pd.DataFrame(report)"
   ]
  },
  {
   "cell_type": "code",
   "execution_count": 88,
   "id": "bc131e42",
   "metadata": {},
   "outputs": [],
   "source": [
    "import prepare"
   ]
  },
  {
   "cell_type": "code",
   "execution_count": 89,
   "id": "215139d9",
   "metadata": {},
   "outputs": [],
   "source": [
    "df = acquire.get_telco_data()\n",
    "merged = X_test.merge((df.customer_id), left_index=True, right_index=True, how='left')\n",
    "customer_id = merged.customer_id\n",
    "probability = pd.DataFrame(y_pred_proba, columns= ['no_churn_prob', 'churn_prob'])\n",
    "prediction = pd.DataFrame(y_predictions, columns= ['churn_pred'])\n",
    "final_pred = pd.concat([probability, prediction], axis=1)\n",
    "\n",
    "customer = pd.DataFrame(customer_id)\n",
    "customer.reset_index(drop=True, inplace=True)\n",
    "final = pd.concat([final_pred, customer], axis=1)\n",
    "final[\"churn_pred\"] = final.churn_pred.replace(to_replace = [1, 0],value = [\"Yes\",\"No\"])\n",
    "\n",
    "final.to_csv('churn_predictions_df.csv')"
   ]
  },
  {
   "cell_type": "markdown",
   "id": "b33928d3",
   "metadata": {},
   "source": [
    "# Summary"
   ]
  },
  {
   "cell_type": "markdown",
   "id": "43ae2592",
   "metadata": {},
   "source": [
    "## Key Takeaways\n",
    "The following were the most influential features to churn: (least to greatest)\n",
    "\n",
    "   - paperless billing\n",
    "   - auto pay\n",
    "   - internet_type_None\n",
    "   - Tenure over 18 months\n",
    "   - 2 Yr Contract"
   ]
  },
  {
   "cell_type": "markdown",
   "id": "0fd35c3c",
   "metadata": {},
   "source": [
    "## Recommendations\n",
    "- Let's get customers committed. Let's help them reach past the 18 month mark.\n",
    "- We can try implementing some sort of membership program to new and existing customers to get them to feel more connected and commited to us. "
   ]
  },
  {
   "cell_type": "markdown",
   "id": "8b26e92b",
   "metadata": {},
   "source": [
    "# If given more time...\n",
    "- I'd like to explore features like paperless billing and autopay more thoroughly. They seem to have potential in helping discover reasons for churning. \n",
    "- I'd like to switch my focus to recall instead of accuracy when comparing models, as predictions with heavy recalls have the potential of helping us better prevent actual churning.\n",
    "- I'd also like to explore the differences between fiber and dsl, as those features also show promise in helping predict churning. \n"
   ]
  },
  {
   "cell_type": "code",
   "execution_count": null,
   "id": "69b91d46",
   "metadata": {},
   "outputs": [],
   "source": []
  }
 ],
 "metadata": {
  "kernelspec": {
   "display_name": "Python 3",
   "language": "python",
   "name": "python3"
  },
  "language_info": {
   "codemirror_mode": {
    "name": "ipython",
    "version": 3
   },
   "file_extension": ".py",
   "mimetype": "text/x-python",
   "name": "python",
   "nbconvert_exporter": "python",
   "pygments_lexer": "ipython3",
   "version": "3.8.8"
  }
 },
 "nbformat": 4,
 "nbformat_minor": 5
}
